{
  "cells": [
    {
      "cell_type": "markdown",
      "source": [
        "# Automated ML\n",
        "\n",
        "TODO: Import Dependencies. In the cell below, import all the dependencies that you will need to complete the project."
      ],
      "metadata": {}
    },
    {
      "cell_type": "markdown",
      "source": [
        "First update to the latest version of AzureML SDK"
      ],
      "metadata": {
        "nteract": {
          "transient": {
            "deleting": false
          }
        }
      }
    },
    {
      "cell_type": "code",
      "source": [
        "!pip install --upgrade azureml-sdk[automl]"
      ],
      "outputs": [],
      "execution_count": null,
      "metadata": {
        "collapsed": true,
        "jupyter": {
          "source_hidden": false,
          "outputs_hidden": false
        },
        "nteract": {
          "transient": {
            "deleting": false
          }
        }
      }
    },
    {
      "cell_type": "code",
      "source": [
        "from azureml.core import Workspace, Experiment, Dataset\r\n",
        "from azureml.train.automl import AutoMLConfig\r\n",
        "from azureml.pipeline.steps import AutoMLStep"
      ],
      "outputs": [],
      "execution_count": 10,
      "metadata": {
        "gather": {
          "logged": 1613901511136
        },
        "jupyter": {
          "outputs_hidden": false,
          "source_hidden": false
        },
        "nteract": {
          "transient": {
            "deleting": false
          }
        }
      }
    },
    {
      "cell_type": "code",
      "source": [
        "from azureml.core.compute import AmlCompute\r\n",
        "from azureml.core.compute import ComputeTarget\r\n",
        "from azureml.core.compute_target import ComputeTargetException\r\n",
        "\r\n",
        "ws = Workspace.from_config()\r\n",
        "\r\n",
        "# NOTE: update the cluster name to match the existing cluster\r\n",
        "# Choose a name for your CPU cluster\r\n",
        "amlcompute_cluster_name = \"auto-ml\"\r\n",
        "\r\n",
        "# Verify that cluster does not exist already\r\n",
        "try:\r\n",
        "    compute_target = ComputeTarget(workspace=ws, name=amlcompute_cluster_name)\r\n",
        "    print('Found existing cluster, use it.')\r\n",
        "except ComputeTargetException:\r\n",
        "    compute_config = AmlCompute.provisioning_configuration(vm_size='STANDARD_D2_V2',# for GPU, use \"STANDARD_NC6\"\r\n",
        "                                                           #vm_priority = 'lowpriority', # optional\r\n",
        "                                                           max_nodes=4)\r\n",
        "    compute_target = ComputeTarget.create(ws, amlcompute_cluster_name, compute_config)\r\n",
        "\r\n",
        "compute_target.wait_for_completion(show_output=True, min_node_count = 1, timeout_in_minutes = 2)\r\n",
        "# For a more detailed view of current AmlCompute status, use get_status()."
      ],
      "outputs": [
        {
          "output_type": "stream",
          "name": "stdout",
          "text": [
            "Found existing cluster, use it.\n",
            "Succeeded........................\n",
            "AmlCompute wait for completion finished\n",
            "\n",
            "Wait timeout has been reached\n",
            "Current provisioning state of AmlCompute is \"Succeeded\" and current node count is \"0\"\n"
          ]
        }
      ],
      "execution_count": 11,
      "metadata": {
        "collapsed": true,
        "gather": {
          "logged": 1613901636668
        },
        "jupyter": {
          "outputs_hidden": false,
          "source_hidden": false
        },
        "nteract": {
          "transient": {
            "deleting": false
          }
        }
      }
    },
    {
      "cell_type": "markdown",
      "source": [
        "## Dataset\n",
        "\n",
        "### Overview\n",
        "TODO: In this markdown cell, give an overview of the dataset you are using. Also mention the task you will be performing.\n",
        "\n",
        "\n",
        "TODO: Get data. In the cell below, write code to access the data you will be using in this project. Remember that the dataset needs to be external."
      ],
      "metadata": {}
    },
    {
      "cell_type": "code",
      "source": [
        "ws = Workspace.from_config()\n",
        "\n",
        "# choose a name for experiment\n",
        "experiment_name = 'udacity-project-bank-churn'\n",
        "\n",
        "experiment=Experiment(ws, experiment_name)"
      ],
      "outputs": [],
      "execution_count": 12,
      "metadata": {
        "gather": {
          "logged": 1613901648691
        },
        "jupyter": {
          "outputs_hidden": false,
          "source_hidden": false
        },
        "nteract": {
          "transient": {
            "deleting": false
          }
        }
      }
    },
    {
      "cell_type": "code",
      "source": [
        "# Quick check to see what datasets are already registerd\r\n",
        "for a in ws.datasets.keys():\r\n",
        "    print(a)"
      ],
      "outputs": [],
      "execution_count": 13,
      "metadata": {
        "collapsed": true,
        "gather": {
          "logged": 1613901656463
        },
        "jupyter": {
          "outputs_hidden": false,
          "source_hidden": false
        },
        "nteract": {
          "transient": {
            "deleting": false
          }
        }
      }
    },
    {
      "cell_type": "code",
      "source": [
        "# get external data https://raw.githubusercontent.com/fuzzballb/nd00333-capstone/master/starter_file/cleaned_data.csv\r\n",
        "\r\n",
        "# Try to load the dataset from the Workspace. Otherwise, create it from the file\r\n",
        "# NOTE: update the key to match the dataset name\r\n",
        "found = False\r\n",
        "key = \"Bank-churn\"\r\n",
        "description_text = \"Bank churn DataSet for Udacity Course\"\r\n",
        "\r\n",
        "if key in ws.datasets.keys():\r\n",
        "        print(\"using existing dataset\") \r\n",
        "        found = True\r\n",
        "        dataset = ws.datasets[key] \r\n",
        "\r\n",
        "if not found:\r\n",
        "        print(\"retrieving dataset\") \r\n",
        "        # Create AML Dataset and register it into Workspace\r\n",
        "        example_data = 'https://raw.githubusercontent.com/fuzzballb/nd00333-capstone/master/starter_file/cleaned_data.csv'\r\n",
        "        dataset = Dataset.Tabular.from_delimited_files(example_data)        \r\n",
        "        #Register Dataset in Workspace\r\n",
        "        dataset = dataset.register(workspace=ws,\r\n",
        "                                   name=key,\r\n",
        "                                   description=description_text)\r\n",
        "\r\n",
        "\r\n",
        "df = dataset.to_pandas_dataframe()\r\n",
        "df.describe()"
      ],
      "outputs": [
        {
          "output_type": "stream",
          "name": "stdout",
          "text": [
            "retrieving dataset\n"
          ]
        },
        {
          "output_type": "execute_result",
          "execution_count": 14,
          "data": {
            "text/plain": "        CreditScore        Gender           Age        Tenure        Balance  \\\ncount  10000.000000  10000.000000  10000.000000  10000.000000   10000.000000   \nmean     650.528800      0.454300     38.921800      5.012800   76485.889288   \nstd       96.653299      0.497932     10.487806      2.892174   62397.405202   \nmin      350.000000      0.000000     18.000000      0.000000       0.000000   \n25%      584.000000      0.000000     32.000000      3.000000       0.000000   \n50%      652.000000      0.000000     37.000000      5.000000   97198.540000   \n75%      718.000000      1.000000     44.000000      7.000000  127644.240000   \nmax      850.000000      1.000000     92.000000     10.000000  250898.090000   \n\n       NumOfProducts    HasCrCard  IsActiveMember  EstimatedSalary  \\\ncount   10000.000000  10000.00000    10000.000000     10000.000000   \nmean        1.530200      0.70550        0.515100    100090.239881   \nstd         0.581654      0.45584        0.499797     57510.492818   \nmin         1.000000      0.00000        0.000000        11.580000   \n25%         1.000000      0.00000        0.000000     51002.110000   \n50%         1.000000      1.00000        1.000000    100193.915000   \n75%         2.000000      1.00000        1.000000    149388.247500   \nmax         4.000000      1.00000        1.000000    199992.480000   \n\n             Exited  Geography_France  Geography_Germany  Geography_Spain  \ncount  10000.000000      10000.000000       10000.000000     10000.000000  \nmean       0.203700          0.501400           0.250900         0.247700  \nstd        0.402769          0.500023           0.433553         0.431698  \nmin        0.000000          0.000000           0.000000         0.000000  \n25%        0.000000          0.000000           0.000000         0.000000  \n50%        0.000000          1.000000           0.000000         0.000000  \n75%        0.000000          1.000000           1.000000         0.000000  \nmax        1.000000          1.000000           1.000000         1.000000  ",
            "text/html": "<div>\n<style scoped>\n    .dataframe tbody tr th:only-of-type {\n        vertical-align: middle;\n    }\n\n    .dataframe tbody tr th {\n        vertical-align: top;\n    }\n\n    .dataframe thead th {\n        text-align: right;\n    }\n</style>\n<table border=\"1\" class=\"dataframe\">\n  <thead>\n    <tr style=\"text-align: right;\">\n      <th></th>\n      <th>CreditScore</th>\n      <th>Gender</th>\n      <th>Age</th>\n      <th>Tenure</th>\n      <th>Balance</th>\n      <th>NumOfProducts</th>\n      <th>HasCrCard</th>\n      <th>IsActiveMember</th>\n      <th>EstimatedSalary</th>\n      <th>Exited</th>\n      <th>Geography_France</th>\n      <th>Geography_Germany</th>\n      <th>Geography_Spain</th>\n    </tr>\n  </thead>\n  <tbody>\n    <tr>\n      <th>count</th>\n      <td>10000.000000</td>\n      <td>10000.000000</td>\n      <td>10000.000000</td>\n      <td>10000.000000</td>\n      <td>10000.000000</td>\n      <td>10000.000000</td>\n      <td>10000.00000</td>\n      <td>10000.000000</td>\n      <td>10000.000000</td>\n      <td>10000.000000</td>\n      <td>10000.000000</td>\n      <td>10000.000000</td>\n      <td>10000.000000</td>\n    </tr>\n    <tr>\n      <th>mean</th>\n      <td>650.528800</td>\n      <td>0.454300</td>\n      <td>38.921800</td>\n      <td>5.012800</td>\n      <td>76485.889288</td>\n      <td>1.530200</td>\n      <td>0.70550</td>\n      <td>0.515100</td>\n      <td>100090.239881</td>\n      <td>0.203700</td>\n      <td>0.501400</td>\n      <td>0.250900</td>\n      <td>0.247700</td>\n    </tr>\n    <tr>\n      <th>std</th>\n      <td>96.653299</td>\n      <td>0.497932</td>\n      <td>10.487806</td>\n      <td>2.892174</td>\n      <td>62397.405202</td>\n      <td>0.581654</td>\n      <td>0.45584</td>\n      <td>0.499797</td>\n      <td>57510.492818</td>\n      <td>0.402769</td>\n      <td>0.500023</td>\n      <td>0.433553</td>\n      <td>0.431698</td>\n    </tr>\n    <tr>\n      <th>min</th>\n      <td>350.000000</td>\n      <td>0.000000</td>\n      <td>18.000000</td>\n      <td>0.000000</td>\n      <td>0.000000</td>\n      <td>1.000000</td>\n      <td>0.00000</td>\n      <td>0.000000</td>\n      <td>11.580000</td>\n      <td>0.000000</td>\n      <td>0.000000</td>\n      <td>0.000000</td>\n      <td>0.000000</td>\n    </tr>\n    <tr>\n      <th>25%</th>\n      <td>584.000000</td>\n      <td>0.000000</td>\n      <td>32.000000</td>\n      <td>3.000000</td>\n      <td>0.000000</td>\n      <td>1.000000</td>\n      <td>0.00000</td>\n      <td>0.000000</td>\n      <td>51002.110000</td>\n      <td>0.000000</td>\n      <td>0.000000</td>\n      <td>0.000000</td>\n      <td>0.000000</td>\n    </tr>\n    <tr>\n      <th>50%</th>\n      <td>652.000000</td>\n      <td>0.000000</td>\n      <td>37.000000</td>\n      <td>5.000000</td>\n      <td>97198.540000</td>\n      <td>1.000000</td>\n      <td>1.00000</td>\n      <td>1.000000</td>\n      <td>100193.915000</td>\n      <td>0.000000</td>\n      <td>1.000000</td>\n      <td>0.000000</td>\n      <td>0.000000</td>\n    </tr>\n    <tr>\n      <th>75%</th>\n      <td>718.000000</td>\n      <td>1.000000</td>\n      <td>44.000000</td>\n      <td>7.000000</td>\n      <td>127644.240000</td>\n      <td>2.000000</td>\n      <td>1.00000</td>\n      <td>1.000000</td>\n      <td>149388.247500</td>\n      <td>0.000000</td>\n      <td>1.000000</td>\n      <td>1.000000</td>\n      <td>0.000000</td>\n    </tr>\n    <tr>\n      <th>max</th>\n      <td>850.000000</td>\n      <td>1.000000</td>\n      <td>92.000000</td>\n      <td>10.000000</td>\n      <td>250898.090000</td>\n      <td>4.000000</td>\n      <td>1.00000</td>\n      <td>1.000000</td>\n      <td>199992.480000</td>\n      <td>1.000000</td>\n      <td>1.000000</td>\n      <td>1.000000</td>\n      <td>1.000000</td>\n    </tr>\n  </tbody>\n</table>\n</div>"
          },
          "metadata": {}
        }
      ],
      "execution_count": 14,
      "metadata": {
        "collapsed": true,
        "gather": {
          "logged": 1613901666760
        },
        "jupyter": {
          "outputs_hidden": false,
          "source_hidden": false
        },
        "nteract": {
          "transient": {
            "deleting": false
          }
        }
      }
    },
    {
      "cell_type": "markdown",
      "source": [
        "## AutoML Configuration\n",
        "\n",
        "TODO: Explain why you chose the automl settings and cofiguration you used below."
      ],
      "metadata": {}
    },
    {
      "cell_type": "code",
      "source": [
        "# TODO: Put your automl settings here\n",
        "automl_settings = {\"experiment_timeout_minutes\": 30,\n",
        "                    \"max_concurrent_iterations\":4,\n",
        "                    \"iterations\": 10,\n",
        "                    \"primary_metric\" : 'accuracy'                     \n",
        "}\n",
        "# TODO: Put your automl config here\n",
        "automl_config = AutoMLConfig(\n",
        "    compute_target = compute_target,\n",
        "    task=\"classification\",\n",
        "    training_data = dataset,\n",
        "    label_column_name= \"Exited\",\n",
        "    n_cross_validations=5,\n",
        "    **automl_settings)   "
      ],
      "outputs": [],
      "execution_count": 15,
      "metadata": {
        "gather": {
          "logged": 1613901672886
        },
        "jupyter": {
          "outputs_hidden": false,
          "source_hidden": false
        },
        "nteract": {
          "transient": {
            "deleting": false
          }
        }
      }
    },
    {
      "cell_type": "code",
      "source": [
        "# TODO: Submit your experiment\n",
        "remote_run = experiment.submit(automl_config, show_output=True)"
      ],
      "outputs": [
        {
          "output_type": "stream",
          "name": "stdout",
          "text": [
            "Running on remote.\n",
            "No run_configuration provided, running on auto-ml with default configuration\n",
            "Running on remote compute: auto-ml\n",
            "Parent Run ID: AutoML_58efcc0b-8669-4f80-a5c5-cff132d1afe7\n",
            "\n",
            "Current status: FeaturesGeneration. Generating features for the dataset.\n",
            "Current status: DatasetCrossValidationSplit. Generating individually featurized CV splits.\n",
            "Current status: ModelSelection. Beginning model selection.\n",
            "\n",
            "****************************************************************************************************\n",
            "DATA GUARDRAILS: \n",
            "\n",
            "TYPE:         Class balancing detection\n",
            "STATUS:       PASSED\n",
            "DESCRIPTION:  Your inputs were analyzed, and all classes are balanced in your training data.\n",
            "              Learn more about imbalanced data: https://aka.ms/AutomatedMLImbalancedData\n",
            "\n",
            "****************************************************************************************************\n",
            "\n",
            "TYPE:         Missing feature values imputation\n",
            "STATUS:       PASSED\n",
            "DESCRIPTION:  No feature missing values were detected in the training data.\n",
            "              Learn more about missing value imputation: https://aka.ms/AutomatedMLFeaturization\n",
            "\n",
            "****************************************************************************************************\n",
            "\n",
            "TYPE:         High cardinality feature detection\n",
            "STATUS:       PASSED\n",
            "DESCRIPTION:  Your inputs were analyzed, and no high cardinality features were detected.\n",
            "              Learn more about high cardinality feature handling: https://aka.ms/AutomatedMLFeaturization\n",
            "\n",
            "****************************************************************************************************\n",
            "\n",
            "****************************************************************************************************\n",
            "ITERATION: The iteration being evaluated.\n",
            "PIPELINE: A summary description of the pipeline being evaluated.\n",
            "DURATION: Time taken for the current iteration.\n",
            "METRIC: The result of computing score on the fitted pipeline.\n",
            "BEST: The best observed score thus far.\n",
            "****************************************************************************************************\n",
            "\n",
            " ITERATION   PIPELINE                                       DURATION      METRIC      BEST\n",
            "         2   MaxAbsScaler RandomForest                      0:01:01       0.8384    0.8384\n",
            "         1   MaxAbsScaler XGBoostClassifier                 0:00:56       0.8613    0.8613\n",
            "         0   MaxAbsScaler LightGBM                          0:00:54       0.8608    0.8613\n",
            "         3   MaxAbsScaler RandomForest                      0:00:54       0.8016    0.8613\n",
            "         7   SparseNormalizer XGBoostClassifier             0:01:07       0.8531    0.8613\n",
            "         4   MaxAbsScaler RandomForest                      0:03:24       0.7683    0.8613\n",
            "         5   MaxAbsScaler RandomForest                      0:03:36       0.7238    0.8613\n",
            "         6   StandardScalerWrapper XGBoostClassifier        0:03:35       0.8643    0.8643\n",
            "         8    VotingEnsemble                                0:01:15       0.8657    0.8657\n",
            "         9    StackEnsemble                                 0:01:13       0.8635    0.8657\n"
          ]
        }
      ],
      "execution_count": 16,
      "metadata": {
        "gather": {
          "logged": 1613903131929
        },
        "jupyter": {
          "outputs_hidden": false,
          "source_hidden": false
        },
        "nteract": {
          "transient": {
            "deleting": false
          }
        }
      }
    },
    {
      "cell_type": "markdown",
      "source": [
        "## Run Details\n",
        "\n",
        "OPTIONAL: Write about the different models trained and their performance. Why do you think some models did better than others?\n",
        "\n",
        "TODO: In the cell below, use the `RunDetails` widget to show the different experiments."
      ],
      "metadata": {}
    },
    {
      "cell_type": "code",
      "source": [
        "remote_run"
      ],
      "outputs": [
        {
          "output_type": "execute_result",
          "execution_count": 47,
          "data": {
            "text/plain": "Run(Experiment: udacity-project-bank-churn,\nId: AutoML_58efcc0b-8669-4f80-a5c5-cff132d1afe7,\nType: automl,\nStatus: Completed)",
            "text/html": "<table style=\"width:100%\"><tr><th>Experiment</th><th>Id</th><th>Type</th><th>Status</th><th>Details Page</th><th>Docs Page</th></tr><tr><td>udacity-project-bank-churn</td><td>AutoML_58efcc0b-8669-4f80-a5c5-cff132d1afe7</td><td>automl</td><td>Completed</td><td><a href=\"https://ml.azure.com/experiments/udacity-project-bank-churn/runs/AutoML_58efcc0b-8669-4f80-a5c5-cff132d1afe7?wsid=/subscriptions/610d6e37-4747-4a20-80eb-3aad70a55f43/resourcegroups/aml-quickstarts-139194/workspaces/quick-starts-ws-139194\" target=\"_blank\" rel=\"noopener\">Link to Azure Machine Learning studio</a></td><td><a href=\"https://docs.microsoft.com/en-us/python/api/overview/azure/ml/intro?view=azure-ml-py\" target=\"_blank\" rel=\"noopener\">Link to Documentation</a></td></tr></table>"
          },
          "metadata": {}
        }
      ],
      "execution_count": 47,
      "metadata": {
        "gather": {
          "logged": 1613820781446
        },
        "jupyter": {
          "outputs_hidden": false,
          "source_hidden": false
        },
        "nteract": {
          "transient": {
            "deleting": false
          }
        }
      }
    },
    {
      "cell_type": "code",
      "source": [
        "from azureml.widgets import RunDetails\r\n",
        "RunDetails(remote_run).show()"
      ],
      "outputs": [
        {
          "output_type": "display_data",
          "data": {
            "text/plain": "_AutoMLWidget(widget_settings={'childWidgetDisplay': 'popup', 'send_telemetry': False, 'log_level': 'INFO', 's…",
            "application/vnd.jupyter.widget-view+json": {
              "version_major": 2,
              "version_minor": 0,
              "model_id": "d3799ed297ca4b2cbe1f77ac58ad68e7"
            }
          },
          "metadata": {}
        },
        {
          "output_type": "display_data",
          "data": {
            "application/aml.mini.widget.v1": "{\"status\": \"Completed\", \"workbench_run_details_uri\": \"https://ml.azure.com/experiments/udacity-project-bank-churn/runs/AutoML_58efcc0b-8669-4f80-a5c5-cff132d1afe7?wsid=/subscriptions/610d6e37-4747-4a20-80eb-3aad70a55f43/resourcegroups/aml-quickstarts-139194/workspaces/quick-starts-ws-139194\", \"run_id\": \"AutoML_58efcc0b-8669-4f80-a5c5-cff132d1afe7\", \"run_properties\": {\"run_id\": \"AutoML_58efcc0b-8669-4f80-a5c5-cff132d1afe7\", \"created_utc\": \"2021-02-20T11:15:01.357347Z\", \"properties\": {\"num_iterations\": \"10\", \"training_type\": \"TrainFull\", \"acquisition_function\": \"EI\", \"primary_metric\": \"accuracy\", \"train_split\": \"0\", \"acquisition_parameter\": \"0\", \"num_cross_validation\": \"5\", \"target\": \"auto-ml\", \"AMLSettingsJsonString\": \"{\\\"path\\\":null,\\\"name\\\":\\\"udacity-project-bank-churn\\\",\\\"subscription_id\\\":\\\"610d6e37-4747-4a20-80eb-3aad70a55f43\\\",\\\"resource_group\\\":\\\"aml-quickstarts-139194\\\",\\\"workspace_name\\\":\\\"quick-starts-ws-139194\\\",\\\"region\\\":\\\"southcentralus\\\",\\\"compute_target\\\":\\\"auto-ml\\\",\\\"spark_service\\\":null,\\\"azure_service\\\":\\\"remote\\\",\\\"many_models\\\":false,\\\"pipeline_fetch_max_batch_size\\\":1,\\\"iterations\\\":10,\\\"primary_metric\\\":\\\"accuracy\\\",\\\"task_type\\\":\\\"classification\\\",\\\"data_script\\\":null,\\\"validation_size\\\":0.0,\\\"n_cross_validations\\\":5,\\\"y_min\\\":null,\\\"y_max\\\":null,\\\"num_classes\\\":null,\\\"featurization\\\":\\\"auto\\\",\\\"_ignore_package_version_incompatibilities\\\":false,\\\"is_timeseries\\\":false,\\\"max_cores_per_iteration\\\":1,\\\"max_concurrent_iterations\\\":4,\\\"iteration_timeout_minutes\\\":null,\\\"mem_in_mb\\\":null,\\\"enforce_time_on_windows\\\":false,\\\"experiment_timeout_minutes\\\":30,\\\"experiment_exit_score\\\":null,\\\"whitelist_models\\\":null,\\\"blacklist_algos\\\":[\\\"TensorFlowLinearClassifier\\\",\\\"TensorFlowDNN\\\"],\\\"supported_models\\\":[\\\"DecisionTree\\\",\\\"MultinomialNaiveBayes\\\",\\\"AveragedPerceptronClassifier\\\",\\\"GradientBoosting\\\",\\\"TensorFlowDNN\\\",\\\"LogisticRegression\\\",\\\"ExtremeRandomTrees\\\",\\\"SVM\\\",\\\"BernoulliNaiveBayes\\\",\\\"KNN\\\",\\\"SGD\\\",\\\"LightGBM\\\",\\\"XGBoostClassifier\\\",\\\"LinearSVM\\\",\\\"RandomForest\\\",\\\"TensorFlowLinearClassifier\\\"],\\\"auto_blacklist\\\":true,\\\"blacklist_samples_reached\\\":false,\\\"exclude_nan_labels\\\":true,\\\"verbosity\\\":20,\\\"_debug_log\\\":\\\"azureml_automl.log\\\",\\\"show_warnings\\\":false,\\\"model_explainability\\\":true,\\\"service_url\\\":null,\\\"sdk_url\\\":null,\\\"sdk_packages\\\":null,\\\"enable_onnx_compatible_models\\\":false,\\\"enable_split_onnx_featurizer_estimator_models\\\":false,\\\"vm_type\\\":\\\"STANDARD_D2_V2\\\",\\\"telemetry_verbosity\\\":20,\\\"send_telemetry\\\":true,\\\"enable_dnn\\\":false,\\\"scenario\\\":\\\"SDK-1.13.0\\\",\\\"environment_label\\\":null,\\\"force_text_dnn\\\":false,\\\"enable_feature_sweeping\\\":true,\\\"enable_early_stopping\\\":false,\\\"early_stopping_n_iters\\\":10,\\\"metrics\\\":null,\\\"enable_ensembling\\\":true,\\\"enable_stack_ensembling\\\":true,\\\"ensemble_iterations\\\":10,\\\"enable_tf\\\":false,\\\"enable_subsampling\\\":false,\\\"subsample_seed\\\":null,\\\"enable_nimbusml\\\":false,\\\"enable_streaming\\\":false,\\\"force_streaming\\\":false,\\\"track_child_runs\\\":true,\\\"allowed_private_models\\\":[],\\\"label_column_name\\\":\\\"Exited\\\",\\\"weight_column_name\\\":null,\\\"cv_split_column_names\\\":null,\\\"enable_local_managed\\\":false,\\\"_local_managed_run_id\\\":null,\\\"cost_mode\\\":1,\\\"lag_length\\\":0,\\\"metric_operation\\\":\\\"maximize\\\",\\\"preprocess\\\":true}\", \"DataPrepJsonString\": \"{\\\\\\\"training_data\\\\\\\": \\\\\\\"{\\\\\\\\\\\\\\\"blocks\\\\\\\\\\\\\\\": [{\\\\\\\\\\\\\\\"id\\\\\\\\\\\\\\\": \\\\\\\\\\\\\\\"0f56290a-9da4-4cd5-9fa6-f423483708da\\\\\\\\\\\\\\\", \\\\\\\\\\\\\\\"type\\\\\\\\\\\\\\\": \\\\\\\\\\\\\\\"Microsoft.DPrep.GetFilesBlock\\\\\\\\\\\\\\\", \\\\\\\\\\\\\\\"arguments\\\\\\\\\\\\\\\": {\\\\\\\\\\\\\\\"isArchive\\\\\\\\\\\\\\\": false, \\\\\\\\\\\\\\\"path\\\\\\\\\\\\\\\": {\\\\\\\\\\\\\\\"target\\\\\\\\\\\\\\\": 4, \\\\\\\\\\\\\\\"resourceDetails\\\\\\\\\\\\\\\": [{\\\\\\\\\\\\\\\"path\\\\\\\\\\\\\\\": \\\\\\\\\\\\\\\"https://raw.githubusercontent.com/fuzzballb/nd00333-capstone/master/starter_file/cleaned_data.csv\\\\\\\\\\\\\\\"}]}}, \\\\\\\\\\\\\\\"localData\\\\\\\\\\\\\\\": {}, \\\\\\\\\\\\\\\"isEnabled\\\\\\\\\\\\\\\": true, \\\\\\\\\\\\\\\"name\\\\\\\\\\\\\\\": null, \\\\\\\\\\\\\\\"annotation\\\\\\\\\\\\\\\": null}, {\\\\\\\\\\\\\\\"id\\\\\\\\\\\\\\\": \\\\\\\\\\\\\\\"4fde04aa-66be-4f5f-8050-610cf0414083\\\\\\\\\\\\\\\", \\\\\\\\\\\\\\\"type\\\\\\\\\\\\\\\": \\\\\\\\\\\\\\\"Microsoft.DPrep.ParseDelimitedBlock\\\\\\\\\\\\\\\", \\\\\\\\\\\\\\\"arguments\\\\\\\\\\\\\\\": {\\\\\\\\\\\\\\\"columnHeadersMode\\\\\\\\\\\\\\\": 3, \\\\\\\\\\\\\\\"fileEncoding\\\\\\\\\\\\\\\": 0, \\\\\\\\\\\\\\\"handleQuotedLineBreaks\\\\\\\\\\\\\\\": false, \\\\\\\\\\\\\\\"preview\\\\\\\\\\\\\\\": false, \\\\\\\\\\\\\\\"separator\\\\\\\\\\\\\\\": \\\\\\\\\\\\\\\",\\\\\\\\\\\\\\\", \\\\\\\\\\\\\\\"skipRows\\\\\\\\\\\\\\\": 0, \\\\\\\\\\\\\\\"skipRowsMode\\\\\\\\\\\\\\\": 0}, \\\\\\\\\\\\\\\"localData\\\\\\\\\\\\\\\": {}, \\\\\\\\\\\\\\\"isEnabled\\\\\\\\\\\\\\\": true, \\\\\\\\\\\\\\\"name\\\\\\\\\\\\\\\": null, \\\\\\\\\\\\\\\"annotation\\\\\\\\\\\\\\\": null}, {\\\\\\\\\\\\\\\"id\\\\\\\\\\\\\\\": \\\\\\\\\\\\\\\"9bf22695-8b60-476d-aa5a-74dec538903b\\\\\\\\\\\\\\\", \\\\\\\\\\\\\\\"type\\\\\\\\\\\\\\\": \\\\\\\\\\\\\\\"Microsoft.DPrep.DropColumnsBlock\\\\\\\\\\\\\\\", \\\\\\\\\\\\\\\"arguments\\\\\\\\\\\\\\\": {\\\\\\\\\\\\\\\"columns\\\\\\\\\\\\\\\": {\\\\\\\\\\\\\\\"type\\\\\\\\\\\\\\\": 0, \\\\\\\\\\\\\\\"details\\\\\\\\\\\\\\\": {\\\\\\\\\\\\\\\"selectedColumns\\\\\\\\\\\\\\\": [\\\\\\\\\\\\\\\"Path\\\\\\\\\\\\\\\"]}}}, \\\\\\\\\\\\\\\"localData\\\\\\\\\\\\\\\": {}, \\\\\\\\\\\\\\\"isEnabled\\\\\\\\\\\\\\\": true, \\\\\\\\\\\\\\\"name\\\\\\\\\\\\\\\": null, \\\\\\\\\\\\\\\"annotation\\\\\\\\\\\\\\\": null}, {\\\\\\\\\\\\\\\"id\\\\\\\\\\\\\\\": \\\\\\\\\\\\\\\"d5054fd5-fbe4-4537-8009-2c72684dac86\\\\\\\\\\\\\\\", \\\\\\\\\\\\\\\"type\\\\\\\\\\\\\\\": \\\\\\\\\\\\\\\"Microsoft.DPrep.SetColumnTypesBlock\\\\\\\\\\\\\\\", \\\\\\\\\\\\\\\"arguments\\\\\\\\\\\\\\\": {\\\\\\\\\\\\\\\"columnConversion\\\\\\\\\\\\\\\": [{\\\\\\\\\\\\\\\"column\\\\\\\\\\\\\\\": {\\\\\\\\\\\\\\\"type\\\\\\\\\\\\\\\": 2, \\\\\\\\\\\\\\\"details\\\\\\\\\\\\\\\": {\\\\\\\\\\\\\\\"selectedColumn\\\\\\\\\\\\\\\": \\\\\\\\\\\\\\\"CreditScore\\\\\\\\\\\\\\\"}}, \\\\\\\\\\\\\\\"typeProperty\\\\\\\\\\\\\\\": 2}, {\\\\\\\\\\\\\\\"column\\\\\\\\\\\\\\\": {\\\\\\\\\\\\\\\"type\\\\\\\\\\\\\\\": 2, \\\\\\\\\\\\\\\"details\\\\\\\\\\\\\\\": {\\\\\\\\\\\\\\\"selectedColumn\\\\\\\\\\\\\\\": \\\\\\\\\\\\\\\"Gender\\\\\\\\\\\\\\\"}}, \\\\\\\\\\\\\\\"typeProperty\\\\\\\\\\\\\\\": 2}, {\\\\\\\\\\\\\\\"column\\\\\\\\\\\\\\\": {\\\\\\\\\\\\\\\"type\\\\\\\\\\\\\\\": 2, \\\\\\\\\\\\\\\"details\\\\\\\\\\\\\\\": {\\\\\\\\\\\\\\\"selectedColumn\\\\\\\\\\\\\\\": \\\\\\\\\\\\\\\"Age\\\\\\\\\\\\\\\"}}, \\\\\\\\\\\\\\\"typeProperty\\\\\\\\\\\\\\\": 2}, {\\\\\\\\\\\\\\\"column\\\\\\\\\\\\\\\": {\\\\\\\\\\\\\\\"type\\\\\\\\\\\\\\\": 2, \\\\\\\\\\\\\\\"details\\\\\\\\\\\\\\\": {\\\\\\\\\\\\\\\"selectedColumn\\\\\\\\\\\\\\\": \\\\\\\\\\\\\\\"Tenure\\\\\\\\\\\\\\\"}}, \\\\\\\\\\\\\\\"typeProperty\\\\\\\\\\\\\\\": 2}, {\\\\\\\\\\\\\\\"column\\\\\\\\\\\\\\\": {\\\\\\\\\\\\\\\"type\\\\\\\\\\\\\\\": 2, \\\\\\\\\\\\\\\"details\\\\\\\\\\\\\\\": {\\\\\\\\\\\\\\\"selectedColumn\\\\\\\\\\\\\\\": \\\\\\\\\\\\\\\"Balance\\\\\\\\\\\\\\\"}}, \\\\\\\\\\\\\\\"typeProperty\\\\\\\\\\\\\\\": 3}, {\\\\\\\\\\\\\\\"column\\\\\\\\\\\\\\\": {\\\\\\\\\\\\\\\"type\\\\\\\\\\\\\\\": 2, \\\\\\\\\\\\\\\"details\\\\\\\\\\\\\\\": {\\\\\\\\\\\\\\\"selectedColumn\\\\\\\\\\\\\\\": \\\\\\\\\\\\\\\"NumOfProducts\\\\\\\\\\\\\\\"}}, \\\\\\\\\\\\\\\"typeProperty\\\\\\\\\\\\\\\": 2}, {\\\\\\\\\\\\\\\"column\\\\\\\\\\\\\\\": {\\\\\\\\\\\\\\\"type\\\\\\\\\\\\\\\": 2, \\\\\\\\\\\\\\\"details\\\\\\\\\\\\\\\": {\\\\\\\\\\\\\\\"selectedColumn\\\\\\\\\\\\\\\": \\\\\\\\\\\\\\\"HasCrCard\\\\\\\\\\\\\\\"}}, \\\\\\\\\\\\\\\"typeProperty\\\\\\\\\\\\\\\": 2}, {\\\\\\\\\\\\\\\"column\\\\\\\\\\\\\\\": {\\\\\\\\\\\\\\\"type\\\\\\\\\\\\\\\": 2, \\\\\\\\\\\\\\\"details\\\\\\\\\\\\\\\": {\\\\\\\\\\\\\\\"selectedColumn\\\\\\\\\\\\\\\": \\\\\\\\\\\\\\\"IsActiveMember\\\\\\\\\\\\\\\"}}, \\\\\\\\\\\\\\\"typeProperty\\\\\\\\\\\\\\\": 2}, {\\\\\\\\\\\\\\\"column\\\\\\\\\\\\\\\": {\\\\\\\\\\\\\\\"type\\\\\\\\\\\\\\\": 2, \\\\\\\\\\\\\\\"details\\\\\\\\\\\\\\\": {\\\\\\\\\\\\\\\"selectedColumn\\\\\\\\\\\\\\\": \\\\\\\\\\\\\\\"EstimatedSalary\\\\\\\\\\\\\\\"}}, \\\\\\\\\\\\\\\"typeProperty\\\\\\\\\\\\\\\": 3}, {\\\\\\\\\\\\\\\"column\\\\\\\\\\\\\\\": {\\\\\\\\\\\\\\\"type\\\\\\\\\\\\\\\": 2, \\\\\\\\\\\\\\\"details\\\\\\\\\\\\\\\": {\\\\\\\\\\\\\\\"selectedColumn\\\\\\\\\\\\\\\": \\\\\\\\\\\\\\\"Exited\\\\\\\\\\\\\\\"}}, \\\\\\\\\\\\\\\"typeProperty\\\\\\\\\\\\\\\": 2}, {\\\\\\\\\\\\\\\"column\\\\\\\\\\\\\\\": {\\\\\\\\\\\\\\\"type\\\\\\\\\\\\\\\": 2, \\\\\\\\\\\\\\\"details\\\\\\\\\\\\\\\": {\\\\\\\\\\\\\\\"selectedColumn\\\\\\\\\\\\\\\": \\\\\\\\\\\\\\\"Geography_France\\\\\\\\\\\\\\\"}}, \\\\\\\\\\\\\\\"typeProperty\\\\\\\\\\\\\\\": 2}, {\\\\\\\\\\\\\\\"column\\\\\\\\\\\\\\\": {\\\\\\\\\\\\\\\"type\\\\\\\\\\\\\\\": 2, \\\\\\\\\\\\\\\"details\\\\\\\\\\\\\\\": {\\\\\\\\\\\\\\\"selectedColumn\\\\\\\\\\\\\\\": \\\\\\\\\\\\\\\"Geography_Germany\\\\\\\\\\\\\\\"}}, \\\\\\\\\\\\\\\"typeProperty\\\\\\\\\\\\\\\": 2}, {\\\\\\\\\\\\\\\"column\\\\\\\\\\\\\\\": {\\\\\\\\\\\\\\\"type\\\\\\\\\\\\\\\": 2, \\\\\\\\\\\\\\\"details\\\\\\\\\\\\\\\": {\\\\\\\\\\\\\\\"selectedColumn\\\\\\\\\\\\\\\": \\\\\\\\\\\\\\\"Geography_Spain\\\\\\\\\\\\\\\"}}, \\\\\\\\\\\\\\\"typeProperty\\\\\\\\\\\\\\\": 2}]}, \\\\\\\\\\\\\\\"localData\\\\\\\\\\\\\\\": {}, \\\\\\\\\\\\\\\"isEnabled\\\\\\\\\\\\\\\": true, \\\\\\\\\\\\\\\"name\\\\\\\\\\\\\\\": null, \\\\\\\\\\\\\\\"annotation\\\\\\\\\\\\\\\": null}], \\\\\\\\\\\\\\\"inspectors\\\\\\\\\\\\\\\": [], \\\\\\\\\\\\\\\"meta\\\\\\\\\\\\\\\": {\\\\\\\\\\\\\\\"savedDatasetId\\\\\\\\\\\\\\\": \\\\\\\\\\\\\\\"a638678d-f34a-41a9-82d1-51f0cae29b40\\\\\\\\\\\\\\\", \\\\\\\\\\\\\\\"datasetType\\\\\\\\\\\\\\\": \\\\\\\\\\\\\\\"tabular\\\\\\\\\\\\\\\", \\\\\\\\\\\\\\\"subscriptionId\\\\\\\\\\\\\\\": \\\\\\\\\\\\\\\"610d6e37-4747-4a20-80eb-3aad70a55f43\\\\\\\\\\\\\\\", \\\\\\\\\\\\\\\"workspaceId\\\\\\\\\\\\\\\": \\\\\\\\\\\\\\\"f1c4005d-03ac-4d12-b679-5bc95e6923bc\\\\\\\\\\\\\\\", \\\\\\\\\\\\\\\"workspaceLocation\\\\\\\\\\\\\\\": \\\\\\\\\\\\\\\"southcentralus\\\\\\\\\\\\\\\"}}\\\\\\\", \\\\\\\"activities\\\\\\\": 0}\", \"EnableSubsampling\": \"False\", \"runTemplate\": \"AutoML\", \"azureml.runsource\": \"automl\", \"display_task_type\": \"classification\", \"dependencies_versions\": \"{\\\"azureml-widgets\\\": \\\"1.20.0\\\", \\\"azureml-train\\\": \\\"1.20.0\\\", \\\"azureml-train-restclients-hyperdrive\\\": \\\"1.20.0\\\", \\\"azureml-train-core\\\": \\\"1.20.0\\\", \\\"azureml-train-automl\\\": \\\"1.20.0\\\", \\\"azureml-train-automl-runtime\\\": \\\"1.20.0\\\", \\\"azureml-train-automl-client\\\": \\\"1.20.0\\\", \\\"azureml-tensorboard\\\": \\\"1.20.0\\\", \\\"azureml-telemetry\\\": \\\"1.20.0\\\", \\\"azureml-sdk\\\": \\\"1.20.0\\\", \\\"azureml-samples\\\": \\\"0+unknown\\\", \\\"azureml-pipeline\\\": \\\"1.20.0\\\", \\\"azureml-pipeline-steps\\\": \\\"1.20.0\\\", \\\"azureml-pipeline-core\\\": \\\"1.20.0\\\", \\\"azureml-opendatasets\\\": \\\"1.20.0\\\", \\\"azureml-model-management-sdk\\\": \\\"1.0.1b6.post1\\\", \\\"azureml-mlflow\\\": \\\"1.20.0.post1\\\", \\\"azureml-interpret\\\": \\\"1.20.0\\\", \\\"azureml-explain-model\\\": \\\"1.20.0\\\", \\\"azureml-defaults\\\": \\\"1.20.0\\\", \\\"azureml-dataset-runtime\\\": \\\"1.20.0\\\", \\\"azureml-dataprep\\\": \\\"2.7.3\\\", \\\"azureml-dataprep-rslex\\\": \\\"1.5.0\\\", \\\"azureml-dataprep-native\\\": \\\"27.0.0\\\", \\\"azureml-datadrift\\\": \\\"1.20.0\\\", \\\"azureml-core\\\": \\\"1.20.0\\\", \\\"azureml-contrib-services\\\": \\\"1.20.0\\\", \\\"azureml-contrib-server\\\": \\\"1.20.0\\\", \\\"azureml-contrib-reinforcementlearning\\\": \\\"1.20.0\\\", \\\"azureml-contrib-pipeline-steps\\\": \\\"1.20.0\\\", \\\"azureml-contrib-notebook\\\": \\\"1.20.0\\\", \\\"azureml-contrib-interpret\\\": \\\"1.20.0\\\", \\\"azureml-contrib-gbdt\\\": \\\"1.20.0\\\", \\\"azureml-contrib-fairness\\\": \\\"1.20.0\\\", \\\"azureml-contrib-dataset\\\": \\\"1.20.0\\\", \\\"azureml-cli-common\\\": \\\"1.20.0\\\", \\\"azureml-automl-runtime\\\": \\\"1.20.0\\\", \\\"azureml-automl-core\\\": \\\"1.20.0\\\", \\\"azureml-accel-models\\\": \\\"1.20.0\\\"}\", \"_aml_system_scenario_identification\": \"Remote.Parent\", \"ClientType\": \"SDK\", \"environment_cpu_name\": \"AzureML-AutoML\", \"environment_cpu_label\": \"prod\", \"environment_gpu_name\": \"AzureML-AutoML-GPU\", \"environment_gpu_label\": \"prod\", \"root_attribution\": \"automl\", \"attribution\": \"AutoML\", \"Orchestrator\": \"AutoML\", \"CancelUri\": \"https://southcentralus.experiments.azureml.net/jasmine/v1.0/subscriptions/610d6e37-4747-4a20-80eb-3aad70a55f43/resourceGroups/aml-quickstarts-139194/providers/Microsoft.MachineLearningServices/workspaces/quick-starts-ws-139194/experimentids/f6ec97e2-3a05-43e5-9ce7-bf29c42f3980/cancel/AutoML_58efcc0b-8669-4f80-a5c5-cff132d1afe7\", \"ClientSdkVersion\": \"1.21.0\", \"snapshotId\": \"00000000-0000-0000-0000-000000000000\", \"SetupRunId\": \"AutoML_58efcc0b-8669-4f80-a5c5-cff132d1afe7_setup\", \"SetupRunContainerId\": \"dcid.AutoML_58efcc0b-8669-4f80-a5c5-cff132d1afe7_setup\", \"FeaturizationRunJsonPath\": \"featurizer_container.json\", \"FeaturizationRunId\": \"AutoML_58efcc0b-8669-4f80-a5c5-cff132d1afe7_featurize\", \"ProblemInfoJsonString\": \"{\\\"dataset_num_categorical\\\": 0, \\\"is_sparse\\\": true, \\\"subsampling\\\": false, \\\"dataset_classes\\\": 2, \\\"dataset_features\\\": 25, \\\"dataset_samples\\\": 10000, \\\"single_frequency_class_detected\\\": false}\", \"ModelExplainRunId\": \"AutoML_58efcc0b-8669-4f80-a5c5-cff132d1afe7_ModelExplain\"}, \"tags\": {\"model_explain_run\": \"best_run\", \"_aml_system_azureml.automlComponent\": \"AutoML\", \"pipeline_id\": \"\", \"score\": \"\", \"predicted_cost\": \"\", \"fit_time\": \"\", \"training_percent\": \"\", \"iteration\": \"\", \"run_preprocessor\": \"\", \"run_algorithm\": \"\", \"automl_best_child_run_id\": \"AutoML_58efcc0b-8669-4f80-a5c5-cff132d1afe7_8\", \"model_explain_best_run_child_id\": \"AutoML_58efcc0b-8669-4f80-a5c5-cff132d1afe7_8\"}, \"end_time_utc\": \"2021-02-20T11:32:38.547964Z\", \"status\": \"Completed\", \"log_files\": {}, \"log_groups\": [], \"run_duration\": \"0:17:37\"}, \"child_runs\": [{\"run_id\": \"AutoML_58efcc0b-8669-4f80-a5c5-cff132d1afe7_0\", \"run_number\": 20, \"metric\": null, \"status\": \"Completed\", \"run_type\": \"azureml.scriptrun\", \"training_percent\": \"100\", \"start_time\": \"2021-02-20T11:26:05.725713Z\", \"end_time\": \"2021-02-20T11:26:59.92493Z\", \"created_time\": \"2021-02-20T11:23:52.95332Z\", \"created_time_dt\": \"2021-02-20T11:23:52.95332Z\", \"duration\": \"0:03:06\", \"iteration\": \"0\", \"goal\": \"accuracy_max\", \"run_name\": \"MaxAbsScaler, LightGBM\", \"run_properties\": \"copy=True\", \"primary_metric\": 0.8608, \"best_metric\": 0.8608}, {\"run_id\": \"AutoML_58efcc0b-8669-4f80-a5c5-cff132d1afe7_2\", \"run_number\": 21, \"metric\": null, \"status\": \"Completed\", \"run_type\": \"azureml.scriptrun\", \"training_percent\": \"100\", \"start_time\": \"2021-02-20T11:24:03.693404Z\", \"end_time\": \"2021-02-20T11:25:05.035826Z\", \"created_time\": \"2021-02-20T11:23:53.007559Z\", \"created_time_dt\": \"2021-02-20T11:23:53.007559Z\", \"duration\": \"0:01:12\", \"iteration\": \"2\", \"goal\": \"accuracy_max\", \"run_name\": \"MaxAbsScaler, RandomForest\", \"run_properties\": \"copy=True\", \"primary_metric\": 0.8384, \"best_metric\": 0.8613}, {\"run_id\": \"AutoML_58efcc0b-8669-4f80-a5c5-cff132d1afe7_3\", \"run_number\": 22, \"metric\": null, \"status\": \"Completed\", \"run_type\": \"azureml.scriptrun\", \"training_percent\": \"100\", \"start_time\": \"2021-02-20T11:27:06.010185Z\", \"end_time\": \"2021-02-20T11:27:59.783086Z\", \"created_time\": \"2021-02-20T11:23:53.018712Z\", \"created_time_dt\": \"2021-02-20T11:23:53.018712Z\", \"duration\": \"0:04:06\", \"iteration\": \"3\", \"goal\": \"accuracy_max\", \"run_name\": \"MaxAbsScaler, RandomForest\", \"run_properties\": \"copy=True\", \"primary_metric\": 0.8016, \"best_metric\": 0.8613}, {\"run_id\": \"AutoML_58efcc0b-8669-4f80-a5c5-cff132d1afe7_1\", \"run_number\": 23, \"metric\": null, \"status\": \"Completed\", \"run_type\": \"azureml.scriptrun\", \"training_percent\": \"100\", \"start_time\": \"2021-02-20T11:25:05.8777Z\", \"end_time\": \"2021-02-20T11:26:01.612209Z\", \"created_time\": \"2021-02-20T11:23:53.056865Z\", \"created_time_dt\": \"2021-02-20T11:23:53.056865Z\", \"duration\": \"0:02:08\", \"iteration\": \"1\", \"goal\": \"accuracy_max\", \"run_name\": \"MaxAbsScaler, XGBoostClassifier\", \"run_properties\": \"copy=True\", \"primary_metric\": 0.8613, \"best_metric\": 0.8613}, {\"run_id\": \"AutoML_58efcc0b-8669-4f80-a5c5-cff132d1afe7_4\", \"run_number\": 24, \"metric\": null, \"status\": \"Completed\", \"run_type\": \"azureml.scriptrun\", \"training_percent\": \"100\", \"start_time\": \"2021-02-20T11:27:31.201104Z\", \"end_time\": \"2021-02-20T11:30:55.299257Z\", \"created_time\": \"2021-02-20T11:25:07.883448Z\", \"created_time_dt\": \"2021-02-20T11:25:07.883448Z\", \"duration\": \"0:05:47\", \"iteration\": \"4\", \"goal\": \"accuracy_max\", \"run_name\": \"MaxAbsScaler, RandomForest\", \"run_properties\": \"copy=True\", \"primary_metric\": 0.7683, \"best_metric\": 0.8613}, {\"run_id\": \"AutoML_58efcc0b-8669-4f80-a5c5-cff132d1afe7_5\", \"run_number\": 25, \"metric\": null, \"status\": \"Completed\", \"run_type\": \"azureml.scriptrun\", \"training_percent\": \"100\", \"start_time\": \"2021-02-20T11:27:35.16748Z\", \"end_time\": \"2021-02-20T11:31:10.963673Z\", \"created_time\": \"2021-02-20T11:26:04.21556Z\", \"created_time_dt\": \"2021-02-20T11:26:04.21556Z\", \"duration\": \"0:05:06\", \"iteration\": \"5\", \"goal\": \"accuracy_max\", \"run_name\": \"MaxAbsScaler, RandomForest\", \"run_properties\": \"copy=True\", \"primary_metric\": 0.7238, \"best_metric\": 0.8613}, {\"run_id\": \"AutoML_58efcc0b-8669-4f80-a5c5-cff132d1afe7_6\", \"run_number\": 26, \"metric\": null, \"status\": \"Completed\", \"run_type\": \"azureml.scriptrun\", \"training_percent\": \"100\", \"start_time\": \"2021-02-20T11:27:33.330045Z\", \"end_time\": \"2021-02-20T11:31:08.470276Z\", \"created_time\": \"2021-02-20T11:27:02.540217Z\", \"created_time_dt\": \"2021-02-20T11:27:02.540217Z\", \"duration\": \"0:04:05\", \"iteration\": \"6\", \"goal\": \"accuracy_max\", \"run_name\": \"StandardScalerWrapper, XGBoostClassifier\", \"run_properties\": \"<azureml.automl.runtime.shared.model_wrappers.StandardScalerWrapper object at 0x7f0ed1df4b70\", \"primary_metric\": 0.8643, \"best_metric\": 0.8643}, {\"run_id\": \"AutoML_58efcc0b-8669-4f80-a5c5-cff132d1afe7_7\", \"run_number\": 27, \"metric\": null, \"status\": \"Completed\", \"run_type\": \"azureml.scriptrun\", \"training_percent\": \"100\", \"start_time\": \"2021-02-20T11:28:11.506654Z\", \"end_time\": \"2021-02-20T11:29:18.854447Z\", \"created_time\": \"2021-02-20T11:28:02.216716Z\", \"created_time_dt\": \"2021-02-20T11:28:02.216716Z\", \"duration\": \"0:01:16\", \"iteration\": \"7\", \"goal\": \"accuracy_max\", \"run_name\": \"SparseNormalizer, XGBoostClassifier\", \"run_properties\": \"<azureml.automl.runtime.shared.model_wrappers.SparseNormalizer object at 0x7f6f9ae27358\", \"primary_metric\": 0.8531, \"best_metric\": 0.8643}, {\"run_id\": \"AutoML_58efcc0b-8669-4f80-a5c5-cff132d1afe7_8\", \"run_number\": 28, \"metric\": null, \"status\": \"Completed\", \"run_type\": \"azureml.scriptrun\", \"training_percent\": \"100\", \"start_time\": \"2021-02-20T11:31:20.054877Z\", \"end_time\": \"2021-02-20T11:32:34.593929Z\", \"created_time\": \"2021-02-20T11:31:11.664569Z\", \"created_time_dt\": \"2021-02-20T11:31:11.664569Z\", \"duration\": \"0:01:22\", \"iteration\": \"8\", \"goal\": \"accuracy_max\", \"run_name\": \"VotingEnsemble\", \"run_properties\": \"classification_labels=None,\\n                              estimators=[('6',\\n                                           Pipeline(memory=None,\\n                                                    steps=[('standardscalerwrapper',\\n                                                            <azureml.automl.runtime.shared.model_wrappers.StandardScalerWrapper object at 0x7f5ce94f2400>\", \"primary_metric\": 0.8657, \"best_metric\": 0.8657}, {\"run_id\": \"AutoML_58efcc0b-8669-4f80-a5c5-cff132d1afe7_9\", \"run_number\": 29, \"metric\": null, \"status\": \"Completed\", \"run_type\": \"azureml.scriptrun\", \"training_percent\": \"100\", \"start_time\": \"2021-02-20T11:31:22.145561Z\", \"end_time\": \"2021-02-20T11:32:34.751866Z\", \"created_time\": \"2021-02-20T11:31:11.671911Z\", \"created_time_dt\": \"2021-02-20T11:31:11.671911Z\", \"duration\": \"0:01:23\", \"iteration\": \"9\", \"goal\": \"accuracy_max\", \"run_name\": \"StackEnsemble\", \"run_properties\": \"base_learners=[('6',\\n                                        Pipeline(memory=None,\\n                                                 steps=[('standardscalerwrapper',\\n                                                         <azureml.automl.runtime.shared.model_wrappers.StandardScalerWrapper object at 0x7fe488409fd0>\", \"primary_metric\": 0.8635, \"best_metric\": 0.8657}], \"children_metrics\": {\"categories\": [0], \"series\": {\"precision_score_macro\": [{\"categories\": [\"0\", \"1\", \"2\", \"3\", \"4\", \"5\", \"6\", \"7\", \"8\", \"9\"], \"mode\": \"markers\", \"name\": \"precision_score_macro\", \"stepped\": false, \"type\": \"scatter\", \"data\": [0.8072590330286646, 0.8204317411056083, 0.8284770713305217, 0.6413516117181652, 0.6914172240680678, 0.662822212614469, 0.821445788888407, 0.8032393130573547, 0.8270468822981828, 0.8179245870929941]}, {\"categories\": [\"0\", \"1\", \"2\", \"3\", \"4\", \"5\", \"6\", \"7\", \"8\", \"9\"], \"mode\": \"lines\", \"name\": \"precision_score_macro_max\", \"stepped\": true, \"type\": \"scatter\", \"data\": [0.8072590330286646, 0.8204317411056083, 0.8284770713305217, 0.8284770713305217, 0.8284770713305217, 0.8284770713305217, 0.8284770713305217, 0.8284770713305217, 0.8284770713305217, 0.8284770713305217]}], \"accuracy\": [{\"categories\": [\"0\", \"1\", \"2\", \"3\", \"4\", \"5\", \"6\", \"7\", \"8\", \"9\"], \"mode\": \"markers\", \"name\": \"accuracy\", \"stepped\": false, \"type\": \"scatter\", \"data\": [0.8608, 0.8613000000000002, 0.8384, 0.8016, 0.7683, 0.7238, 0.8643000000000001, 0.8531000000000001, 0.8657, 0.8634999999999999]}, {\"categories\": [\"0\", \"1\", \"2\", \"3\", \"4\", \"5\", \"6\", \"7\", \"8\", \"9\"], \"mode\": \"lines\", \"name\": \"accuracy_max\", \"stepped\": true, \"type\": \"scatter\", \"data\": [0.8608, 0.8613000000000002, 0.8613000000000002, 0.8613000000000002, 0.8613000000000002, 0.8613000000000002, 0.8643000000000001, 0.8643000000000001, 0.8657, 0.8657]}], \"balanced_accuracy\": [{\"categories\": [\"0\", \"1\", \"2\", \"3\", \"4\", \"5\", \"6\", \"7\", \"8\", \"9\"], \"mode\": \"markers\", \"name\": \"balanced_accuracy\", \"stepped\": false, \"type\": \"scatter\", \"data\": [0.7254550889356837, 0.7114371384595675, 0.6285404813584848, 0.5156213090437052, 0.7629381919550603, 0.7274431975906962, 0.7222184218693795, 0.6963517433128171, 0.7219834814071115, 0.723973042830074]}, {\"categories\": [\"0\", \"1\", \"2\", \"3\", \"4\", \"5\", \"6\", \"7\", \"8\", \"9\"], \"mode\": \"lines\", \"name\": \"balanced_accuracy_max\", \"stepped\": true, \"type\": \"scatter\", \"data\": [0.7254550889356837, 0.7254550889356837, 0.7254550889356837, 0.7254550889356837, 0.7629381919550603, 0.7629381919550603, 0.7629381919550603, 0.7629381919550603, 0.7629381919550603, 0.7629381919550603]}], \"norm_macro_recall\": [{\"categories\": [\"0\", \"1\", \"2\", \"3\", \"4\", \"5\", \"6\", \"7\", \"8\", \"9\"], \"mode\": \"markers\", \"name\": \"norm_macro_recall\", \"stepped\": false, \"type\": \"scatter\", \"data\": [0.4509101778713672, 0.42287427691913493, 0.2570809627169696, 0.031242618087410357, 0.5258763839101206, 0.4548863951813923, 0.444436843738759, 0.39270348662563415, 0.4439669628142232, 0.4479460856601481]}, {\"categories\": [\"0\", \"1\", \"2\", \"3\", \"4\", \"5\", \"6\", \"7\", \"8\", \"9\"], \"mode\": \"lines\", \"name\": \"norm_macro_recall_max\", \"stepped\": true, \"type\": \"scatter\", \"data\": [0.4509101778713672, 0.4509101778713672, 0.4509101778713672, 0.4509101778713672, 0.5258763839101206, 0.5258763839101206, 0.5258763839101206, 0.5258763839101206, 0.5258763839101206, 0.5258763839101206]}], \"average_precision_score_macro\": [{\"categories\": [\"0\", \"1\", \"2\", \"3\", \"4\", \"5\", \"6\", \"7\", \"8\", \"9\"], \"mode\": \"markers\", \"name\": \"average_precision_score_macro\", \"stepped\": false, \"type\": \"scatter\", \"data\": [0.8243765791210418, 0.8297191691865173, 0.7899995070525843, 0.7494407956938707, 0.7864952972105023, 0.7519820138277601, 0.8279947045149771, 0.8090881556434824, 0.830721358295208, 0.8301458024702123]}, {\"categories\": [\"0\", \"1\", \"2\", \"3\", \"4\", \"5\", \"6\", \"7\", \"8\", \"9\"], \"mode\": \"lines\", \"name\": \"average_precision_score_macro_max\", \"stepped\": true, \"type\": \"scatter\", \"data\": [0.8243765791210418, 0.8297191691865173, 0.8297191691865173, 0.8297191691865173, 0.8297191691865173, 0.8297191691865173, 0.8297191691865173, 0.8297191691865173, 0.830721358295208, 0.830721358295208]}], \"f1_score_macro\": [{\"categories\": [\"0\", \"1\", \"2\", \"3\", \"4\", \"5\", \"6\", \"7\", \"8\", \"9\"], \"mode\": \"markers\", \"name\": \"f1_score_macro\", \"stepped\": false, \"type\": \"scatter\", \"data\": [0.7539770974900197, 0.7453177567898794, 0.6558583890680252, 0.47490529343031723, 0.7055617991009391, 0.6634455758502158, 0.7547461686660292, 0.7285624180029201, 0.7557622486430979, 0.7552706191177725]}, {\"categories\": [\"0\", \"1\", \"2\", \"3\", \"4\", \"5\", \"6\", \"7\", \"8\", \"9\"], \"mode\": \"lines\", \"name\": \"f1_score_macro_max\", \"stepped\": true, \"type\": \"scatter\", \"data\": [0.7539770974900197, 0.7539770974900197, 0.7539770974900197, 0.7539770974900197, 0.7539770974900197, 0.7539770974900197, 0.7547461686660292, 0.7547461686660292, 0.7557622486430979, 0.7557622486430979]}], \"average_precision_score_weighted\": [{\"categories\": [\"0\", \"1\", \"2\", \"3\", \"4\", \"5\", \"6\", \"7\", \"8\", \"9\"], \"mode\": \"markers\", \"name\": \"average_precision_score_weighted\", \"stepped\": false, \"type\": \"scatter\", \"data\": [0.9001446790774809, 0.9045065025818078, 0.8834566965207781, 0.8626009761628234, 0.8827162304249665, 0.8615449663047559, 0.9030909874063532, 0.8924967171071915, 0.9044643189076778, 0.9041961805813985]}, {\"categories\": [\"0\", \"1\", \"2\", \"3\", \"4\", \"5\", \"6\", \"7\", \"8\", \"9\"], \"mode\": \"lines\", \"name\": \"average_precision_score_weighted_max\", \"stepped\": true, \"type\": \"scatter\", \"data\": [0.9001446790774809, 0.9045065025818078, 0.9045065025818078, 0.9045065025818078, 0.9045065025818078, 0.9045065025818078, 0.9045065025818078, 0.9045065025818078, 0.9045065025818078, 0.9045065025818078]}], \"recall_score_micro\": [{\"categories\": [\"0\", \"1\", \"2\", \"3\", \"4\", \"5\", \"6\", \"7\", \"8\", \"9\"], \"mode\": \"markers\", \"name\": \"recall_score_micro\", \"stepped\": false, \"type\": \"scatter\", \"data\": [0.8608, 0.8613000000000002, 0.8384, 0.8016, 0.7683, 0.7238, 0.8643000000000001, 0.8531000000000001, 0.8657, 0.8634999999999999]}, {\"categories\": [\"0\", \"1\", \"2\", \"3\", \"4\", \"5\", \"6\", \"7\", \"8\", \"9\"], \"mode\": \"lines\", \"name\": \"recall_score_micro_max\", \"stepped\": true, \"type\": \"scatter\", \"data\": [0.8608, 0.8613000000000002, 0.8613000000000002, 0.8613000000000002, 0.8613000000000002, 0.8613000000000002, 0.8643000000000001, 0.8643000000000001, 0.8657, 0.8657]}], \"log_loss\": [{\"categories\": [\"0\", \"1\", \"2\", \"3\", \"4\", \"5\", \"6\", \"7\", \"8\", \"9\"], \"mode\": \"markers\", \"name\": \"log_loss\", \"stepped\": false, \"type\": \"scatter\", \"data\": [0.34019281789049555, 0.3339767183321754, 0.38168828996896353, 0.4149484137758807, 0.5091871563778276, 0.565499193823819, 0.33459703789427125, 0.35104956409858923, 0.34260654746561325, 0.3388123052149915]}, {\"categories\": [\"0\", \"1\", \"2\", \"3\", \"4\", \"5\", \"6\", \"7\", \"8\", \"9\"], \"mode\": \"lines\", \"name\": \"log_loss_min\", \"stepped\": true, \"type\": \"scatter\", \"data\": [0.34019281789049555, 0.3339767183321754, 0.3339767183321754, 0.3339767183321754, 0.3339767183321754, 0.3339767183321754, 0.3339767183321754, 0.3339767183321754, 0.3339767183321754, 0.3339767183321754]}], \"f1_score_micro\": [{\"categories\": [\"0\", \"1\", \"2\", \"3\", \"4\", \"5\", \"6\", \"7\", \"8\", \"9\"], \"mode\": \"markers\", \"name\": \"f1_score_micro\", \"stepped\": false, \"type\": \"scatter\", \"data\": [0.8608, 0.8613, 0.8384, 0.8016, 0.7683, 0.7238, 0.8643000000000001, 0.8531000000000001, 0.8657, 0.8634999999999999]}, {\"categories\": [\"0\", \"1\", \"2\", \"3\", \"4\", \"5\", \"6\", \"7\", \"8\", \"9\"], \"mode\": \"lines\", \"name\": \"f1_score_micro_max\", \"stepped\": true, \"type\": \"scatter\", \"data\": [0.8608, 0.8613, 0.8613, 0.8613, 0.8613, 0.8613, 0.8643000000000001, 0.8643000000000001, 0.8657, 0.8657]}], \"matthews_correlation\": [{\"categories\": [\"0\", \"1\", \"2\", \"3\", \"4\", \"5\", \"6\", \"7\", \"8\", \"9\"], \"mode\": \"markers\", \"name\": \"matthews_correlation\", \"stepped\": false, \"type\": \"scatter\", \"data\": [0.5262188872853154, 0.5204758905486506, 0.408091815439019, 0.10361466541428506, 0.44867397237125495, 0.38479317772128835, 0.5343628044595318, 0.4879950699025256, 0.538708859429888, 0.5334401411417125]}, {\"categories\": [\"0\", \"1\", \"2\", \"3\", \"4\", \"5\", \"6\", \"7\", \"8\", \"9\"], \"mode\": \"lines\", \"name\": \"matthews_correlation_max\", \"stepped\": true, \"type\": \"scatter\", \"data\": [0.5262188872853154, 0.5262188872853154, 0.5262188872853154, 0.5262188872853154, 0.5262188872853154, 0.5262188872853154, 0.5343628044595318, 0.5343628044595318, 0.538708859429888, 0.538708859429888]}], \"weighted_accuracy\": [{\"categories\": [\"0\", \"1\", \"2\", \"3\", \"4\", \"5\", \"6\", \"7\", \"8\", \"9\"], \"mode\": \"markers\", \"name\": \"weighted_accuracy\", \"stepped\": false, \"type\": \"scatter\", \"data\": [0.925772246888984, 0.9332042990511982, 0.9391396020682622, 0.9388692502328778, 0.7707711553934894, 0.7216772321210778, 0.932464921116812, 0.9282916680578295, 0.9346985749459235, 0.930526569415067]}, {\"categories\": [\"0\", \"1\", \"2\", \"3\", \"4\", \"5\", \"6\", \"7\", \"8\", \"9\"], \"mode\": \"lines\", \"name\": \"weighted_accuracy_max\", \"stepped\": true, \"type\": \"scatter\", \"data\": [0.925772246888984, 0.9332042990511982, 0.9391396020682622, 0.9391396020682622, 0.9391396020682622, 0.9391396020682622, 0.9391396020682622, 0.9391396020682622, 0.9391396020682622, 0.9391396020682622]}], \"AUC_macro\": [{\"categories\": [\"0\", \"1\", \"2\", \"3\", \"4\", \"5\", \"6\", \"7\", \"8\", \"9\"], \"mode\": \"markers\", \"name\": \"AUC_macro\", \"stepped\": false, \"type\": \"scatter\", \"data\": [0.8604343760002037, 0.8669341958596318, 0.8417147558999313, 0.816632437852542, 0.8439279819233867, 0.8120686131101109, 0.8657972362869704, 0.8524130734729531, 0.8670563660733788, 0.8663655277988388]}, {\"categories\": [\"0\", \"1\", \"2\", \"3\", \"4\", \"5\", \"6\", \"7\", \"8\", \"9\"], \"mode\": \"lines\", \"name\": \"AUC_macro_max\", \"stepped\": true, \"type\": \"scatter\", \"data\": [0.8604343760002037, 0.8669341958596318, 0.8669341958596318, 0.8669341958596318, 0.8669341958596318, 0.8669341958596318, 0.8669341958596318, 0.8669341958596318, 0.8670563660733788, 0.8670563660733788]}], \"AUC_weighted\": [{\"categories\": [\"0\", \"1\", \"2\", \"3\", \"4\", \"5\", \"6\", \"7\", \"8\", \"9\"], \"mode\": \"markers\", \"name\": \"AUC_weighted\", \"stepped\": false, \"type\": \"scatter\", \"data\": [0.8604343760002034, 0.8669341958596318, 0.8417147558999313, 0.816632437852542, 0.8439279819233867, 0.8120686131101109, 0.8657972362869704, 0.8524130734729531, 0.8670563660733788, 0.8663655277988387]}, {\"categories\": [\"0\", \"1\", \"2\", \"3\", \"4\", \"5\", \"6\", \"7\", \"8\", \"9\"], \"mode\": \"lines\", \"name\": \"AUC_weighted_max\", \"stepped\": true, \"type\": \"scatter\", \"data\": [0.8604343760002034, 0.8669341958596318, 0.8669341958596318, 0.8669341958596318, 0.8669341958596318, 0.8669341958596318, 0.8669341958596318, 0.8669341958596318, 0.8670563660733788, 0.8670563660733788]}], \"recall_score_weighted\": [{\"categories\": [\"0\", \"1\", \"2\", \"3\", \"4\", \"5\", \"6\", \"7\", \"8\", \"9\"], \"mode\": \"markers\", \"name\": \"recall_score_weighted\", \"stepped\": false, \"type\": \"scatter\", \"data\": [0.8608, 0.8613000000000002, 0.8384, 0.8016, 0.7683, 0.7238, 0.8643000000000001, 0.8531000000000001, 0.8657, 0.8634999999999999]}, {\"categories\": [\"0\", \"1\", \"2\", \"3\", \"4\", \"5\", \"6\", \"7\", \"8\", \"9\"], \"mode\": \"lines\", \"name\": \"recall_score_weighted_max\", \"stepped\": true, \"type\": \"scatter\", \"data\": [0.8608, 0.8613000000000002, 0.8613000000000002, 0.8613000000000002, 0.8613000000000002, 0.8613000000000002, 0.8643000000000001, 0.8643000000000001, 0.8657, 0.8657]}], \"recall_score_macro\": [{\"categories\": [\"0\", \"1\", \"2\", \"3\", \"4\", \"5\", \"6\", \"7\", \"8\", \"9\"], \"mode\": \"markers\", \"name\": \"recall_score_macro\", \"stepped\": false, \"type\": \"scatter\", \"data\": [0.7254550889356837, 0.7114371384595675, 0.6285404813584848, 0.5156213090437052, 0.7629381919550603, 0.7274431975906962, 0.7222184218693795, 0.6963517433128171, 0.7219834814071115, 0.723973042830074]}, {\"categories\": [\"0\", \"1\", \"2\", \"3\", \"4\", \"5\", \"6\", \"7\", \"8\", \"9\"], \"mode\": \"lines\", \"name\": \"recall_score_macro_max\", \"stepped\": true, \"type\": \"scatter\", \"data\": [0.7254550889356837, 0.7254550889356837, 0.7254550889356837, 0.7254550889356837, 0.7629381919550603, 0.7629381919550603, 0.7629381919550603, 0.7629381919550603, 0.7629381919550603, 0.7629381919550603]}], \"precision_score_weighted\": [{\"categories\": [\"0\", \"1\", \"2\", \"3\", \"4\", \"5\", \"6\", \"7\", \"8\", \"9\"], \"mode\": \"markers\", \"name\": \"precision_score_weighted\", \"stepped\": false, \"type\": \"scatter\", \"data\": [0.8512156090688082, 0.8525667479840792, 0.8362861648534917, 0.7341972408290767, 0.8298055242234053, 0.8118931741806146, 0.8558206952472547, 0.8422200871447867, 0.8578306834805591, 0.854948849817438]}, {\"categories\": [\"0\", \"1\", \"2\", \"3\", \"4\", \"5\", \"6\", \"7\", \"8\", \"9\"], \"mode\": \"lines\", \"name\": \"precision_score_weighted_max\", \"stepped\": true, \"type\": \"scatter\", \"data\": [0.8512156090688082, 0.8525667479840792, 0.8525667479840792, 0.8525667479840792, 0.8525667479840792, 0.8525667479840792, 0.8558206952472547, 0.8558206952472547, 0.8578306834805591, 0.8578306834805591]}], \"AUC_micro\": [{\"categories\": [\"0\", \"1\", \"2\", \"3\", \"4\", \"5\", \"6\", \"7\", \"8\", \"9\"], \"mode\": \"markers\", \"name\": \"AUC_micro\", \"stepped\": false, \"type\": \"scatter\", \"data\": [0.9289505, 0.9313505500000001, 0.91313175, 0.8991768, 0.8504121000000001, 0.8094607500000001, 0.9307381500000002, 0.9237758499999998, 0.9313365499999999, 0.93114575]}, {\"categories\": [\"0\", \"1\", \"2\", \"3\", \"4\", \"5\", \"6\", \"7\", \"8\", \"9\"], \"mode\": \"lines\", \"name\": \"AUC_micro_max\", \"stepped\": true, \"type\": \"scatter\", \"data\": [0.9289505, 0.9313505500000001, 0.9313505500000001, 0.9313505500000001, 0.9313505500000001, 0.9313505500000001, 0.9313505500000001, 0.9313505500000001, 0.9313505500000001, 0.9313505500000001]}], \"average_precision_score_micro\": [{\"categories\": [\"0\", \"1\", \"2\", \"3\", \"4\", \"5\", \"6\", \"7\", \"8\", \"9\"], \"mode\": \"markers\", \"name\": \"average_precision_score_micro\", \"stepped\": false, \"type\": \"scatter\", \"data\": [0.9256797439158764, 0.9290433651619292, 0.9109415604213316, 0.8979378973560965, 0.8492756379381639, 0.8147185370274925, 0.9276016217245739, 0.9203854814592954, 0.9282548393637183, 0.9283662536793029]}, {\"categories\": [\"0\", \"1\", \"2\", \"3\", \"4\", \"5\", \"6\", \"7\", \"8\", \"9\"], \"mode\": \"lines\", \"name\": \"average_precision_score_micro_max\", \"stepped\": true, \"type\": \"scatter\", \"data\": [0.9256797439158764, 0.9290433651619292, 0.9290433651619292, 0.9290433651619292, 0.9290433651619292, 0.9290433651619292, 0.9290433651619292, 0.9290433651619292, 0.9290433651619292, 0.9290433651619292]}], \"precision_score_micro\": [{\"categories\": [\"0\", \"1\", \"2\", \"3\", \"4\", \"5\", \"6\", \"7\", \"8\", \"9\"], \"mode\": \"markers\", \"name\": \"precision_score_micro\", \"stepped\": false, \"type\": \"scatter\", \"data\": [0.8608, 0.8613000000000002, 0.8384, 0.8016, 0.7683, 0.7238, 0.8643000000000001, 0.8531000000000001, 0.8657, 0.8634999999999999]}, {\"categories\": [\"0\", \"1\", \"2\", \"3\", \"4\", \"5\", \"6\", \"7\", \"8\", \"9\"], \"mode\": \"lines\", \"name\": \"precision_score_micro_max\", \"stepped\": true, \"type\": \"scatter\", \"data\": [0.8608, 0.8613000000000002, 0.8613000000000002, 0.8613000000000002, 0.8613000000000002, 0.8613000000000002, 0.8643000000000001, 0.8643000000000001, 0.8657, 0.8657]}], \"f1_score_weighted\": [{\"categories\": [\"0\", \"1\", \"2\", \"3\", \"4\", \"5\", \"6\", \"7\", \"8\", \"9\"], \"mode\": \"markers\", \"name\": \"f1_score_weighted\", \"stepped\": false, \"type\": \"scatter\", \"data\": [0.8500664227073628, 0.8471982364087344, 0.8042919228392973, 0.7201880647426717, 0.7861257072517496, 0.7463104896748344, 0.8519508801069028, 0.8375920521417658, 0.8528828085579327, 0.8517336088217642]}, {\"categories\": [\"0\", \"1\", \"2\", \"3\", \"4\", \"5\", \"6\", \"7\", \"8\", \"9\"], \"mode\": \"lines\", \"name\": \"f1_score_weighted_max\", \"stepped\": true, \"type\": \"scatter\", \"data\": [0.8500664227073628, 0.8500664227073628, 0.8500664227073628, 0.8500664227073628, 0.8500664227073628, 0.8500664227073628, 0.8519508801069028, 0.8519508801069028, 0.8528828085579327, 0.8528828085579327]}]}, \"metricName\": null, \"primaryMetricName\": \"accuracy\", \"showLegend\": false}, \"run_metrics\": [{\"name\": \"experiment_status\", \"run_id\": \"AutoML_58efcc0b-8669-4f80-a5c5-cff132d1afe7\", \"categories\": [0, 1, 2, 3, 4, 5, 6, 7, 8, 9, 10, 11, 12, 13], \"series\": [{\"data\": [\"DatasetEvaluation\", \"FeaturesGeneration\", \"DatasetFeaturization\", \"DatasetFeaturizationCompleted\", \"DatasetCrossValidationSplit\", \"ModelSelection\", \"BestRunExplainModel\", \"ModelExplanationDataSetSetup\", \"PickSurrogateModel\", \"EngineeredFeatureExplanations\", \"EngineeredFeatureExplanations\", \"RawFeaturesExplanations\", \"RawFeaturesExplanations\", \"BestRunExplainModel\"]}]}, {\"name\": \"experiment_status_description\", \"run_id\": \"AutoML_58efcc0b-8669-4f80-a5c5-cff132d1afe7\", \"categories\": [0, 1, 2, 3, 4, 5, 6, 7, 8, 9, 10, 11, 12, 13], \"series\": [{\"data\": [\"Gathering dataset statistics.\", \"Generating features for the dataset.\", \"Beginning to fit featurizers and featurize the dataset.\", \"Completed fit featurizers and featurizing the dataset.\", \"Generating individually featurized CV splits.\", \"Beginning model selection.\", \"Best run model explanations started\", \"Model explanations data setup completed\", \"Choosing LightGBM as the surrogate model for explanations\", \"Computation of engineered features started\", \"Computation of engineered features completed\", \"Computation of raw features started\", \"Computation of raw features completed\", \"Best run model explanations completed\"]}]}, {\"name\": \"AUC_weighted\", \"run_id\": \"AutoML_58efcc0b-8669-4f80-a5c5-cff132d1afe7\", \"categories\": [0], \"series\": [{\"data\": [0.8670563660733788]}]}, {\"name\": \"precision_score_weighted\", \"run_id\": \"AutoML_58efcc0b-8669-4f80-a5c5-cff132d1afe7\", \"categories\": [0], \"series\": [{\"data\": [0.8578306834805591]}]}, {\"name\": \"recall_score_weighted\", \"run_id\": \"AutoML_58efcc0b-8669-4f80-a5c5-cff132d1afe7\", \"categories\": [0], \"series\": [{\"data\": [0.8657]}]}, {\"name\": \"matthews_correlation\", \"run_id\": \"AutoML_58efcc0b-8669-4f80-a5c5-cff132d1afe7\", \"categories\": [0], \"series\": [{\"data\": [0.538708859429888]}]}, {\"name\": \"norm_macro_recall\", \"run_id\": \"AutoML_58efcc0b-8669-4f80-a5c5-cff132d1afe7\", \"categories\": [0], \"series\": [{\"data\": [0.4439669628142232]}]}, {\"name\": \"precision_score_macro\", \"run_id\": \"AutoML_58efcc0b-8669-4f80-a5c5-cff132d1afe7\", \"categories\": [0], \"series\": [{\"data\": [0.8270468822981828]}]}, {\"name\": \"balanced_accuracy\", \"run_id\": \"AutoML_58efcc0b-8669-4f80-a5c5-cff132d1afe7\", \"categories\": [0], \"series\": [{\"data\": [0.7219834814071115]}]}, {\"name\": \"average_precision_score_micro\", \"run_id\": \"AutoML_58efcc0b-8669-4f80-a5c5-cff132d1afe7\", \"categories\": [0], \"series\": [{\"data\": [0.9282548393637183]}]}, {\"name\": \"accuracy\", \"run_id\": \"AutoML_58efcc0b-8669-4f80-a5c5-cff132d1afe7\", \"categories\": [0], \"series\": [{\"data\": [0.8657]}]}, {\"name\": \"f1_score_micro\", \"run_id\": \"AutoML_58efcc0b-8669-4f80-a5c5-cff132d1afe7\", \"categories\": [0], \"series\": [{\"data\": [0.8657]}]}, {\"name\": \"recall_score_macro\", \"run_id\": \"AutoML_58efcc0b-8669-4f80-a5c5-cff132d1afe7\", \"categories\": [0], \"series\": [{\"data\": [0.7219834814071115]}]}, {\"name\": \"AUC_macro\", \"run_id\": \"AutoML_58efcc0b-8669-4f80-a5c5-cff132d1afe7\", \"categories\": [0], \"series\": [{\"data\": [0.8670563660733788]}]}, {\"name\": \"log_loss\", \"run_id\": \"AutoML_58efcc0b-8669-4f80-a5c5-cff132d1afe7\", \"categories\": [0], \"series\": [{\"data\": [0.34260654746561325]}]}, {\"name\": \"average_precision_score_weighted\", \"run_id\": \"AutoML_58efcc0b-8669-4f80-a5c5-cff132d1afe7\", \"categories\": [0], \"series\": [{\"data\": [0.9044643189076778]}]}, {\"name\": \"AUC_micro\", \"run_id\": \"AutoML_58efcc0b-8669-4f80-a5c5-cff132d1afe7\", \"categories\": [0], \"series\": [{\"data\": [0.9313365499999999]}]}, {\"name\": \"average_precision_score_macro\", \"run_id\": \"AutoML_58efcc0b-8669-4f80-a5c5-cff132d1afe7\", \"categories\": [0], \"series\": [{\"data\": [0.830721358295208]}]}, {\"name\": \"recall_score_micro\", \"run_id\": \"AutoML_58efcc0b-8669-4f80-a5c5-cff132d1afe7\", \"categories\": [0], \"series\": [{\"data\": [0.8657]}]}, {\"name\": \"f1_score_weighted\", \"run_id\": \"AutoML_58efcc0b-8669-4f80-a5c5-cff132d1afe7\", \"categories\": [0], \"series\": [{\"data\": [0.8528828085579327]}]}, {\"name\": \"precision_score_micro\", \"run_id\": \"AutoML_58efcc0b-8669-4f80-a5c5-cff132d1afe7\", \"categories\": [0], \"series\": [{\"data\": [0.8657]}]}, {\"name\": \"weighted_accuracy\", \"run_id\": \"AutoML_58efcc0b-8669-4f80-a5c5-cff132d1afe7\", \"categories\": [0], \"series\": [{\"data\": [0.9346985749459235]}]}, {\"name\": \"f1_score_macro\", \"run_id\": \"AutoML_58efcc0b-8669-4f80-a5c5-cff132d1afe7\", \"categories\": [0], \"series\": [{\"data\": [0.7557622486430979]}]}], \"run_logs\": \"\\nRun is completed.\", \"graph\": {}, \"widget_settings\": {\"childWidgetDisplay\": \"popup\", \"send_telemetry\": false, \"log_level\": \"INFO\", \"sdk_version\": \"1.20.0\"}, \"loading\": false}"
          },
          "metadata": {}
        }
      ],
      "execution_count": 48,
      "metadata": {
        "collapsed": true,
        "jupyter": {
          "outputs_hidden": false,
          "source_hidden": false
        },
        "nteract": {
          "transient": {
            "deleting": false
          }
        },
        "gather": {
          "logged": 1613820786514
        }
      }
    },
    {
      "cell_type": "markdown",
      "source": [
        "## Best Model\n",
        "\n",
        "TODO: In the cell below, get the best model from the automl experiments and display all the properties of the model.\n",
        "\n"
      ],
      "metadata": {}
    },
    {
      "cell_type": "code",
      "source": [
        "best_automl_run,fitted_model = remote_run.get_output()\r\n",
        "print(best_automl_run)\r\n",
        "print(fitted_model)\r\n"
      ],
      "outputs": [
        {
          "output_type": "stream",
          "name": "stderr",
          "text": [
            "WARNING:root:The version of the SDK does not match the version the model was trained on.\n",
            "WARNING:root:The consistency in the result may not be guaranteed.\n",
            "WARNING:root:Package:azureml-automl-core, training version:1.21.0, current version:1.20.0\n",
            "Package:azureml-automl-runtime, training version:1.21.0, current version:1.20.0\n",
            "Package:azureml-core, training version:1.21.0.post1, current version:1.20.0\n",
            "Package:azureml-dataprep, training version:2.8.2, current version:2.7.3\n",
            "Package:azureml-dataprep-native, training version:28.0.0, current version:27.0.0\n",
            "Package:azureml-dataprep-rslex, training version:1.6.0, current version:1.5.0\n",
            "Package:azureml-dataset-runtime, training version:1.21.0, current version:1.20.0\n",
            "Package:azureml-defaults, training version:1.21.0, current version:1.20.0\n",
            "Package:azureml-interpret, training version:1.21.0, current version:1.20.0\n",
            "Package:azureml-pipeline-core, training version:1.21.0, current version:1.20.0\n",
            "Package:azureml-telemetry, training version:1.21.0, current version:1.20.0\n",
            "Package:azureml-train-automl-client, training version:1.21.0, current version:1.20.0\n",
            "Package:azureml-train-automl-runtime, training version:1.21.0, current version:1.20.0\n",
            "WARNING:root:Please ensure the version of your local conda dependencies match the version on which your model was trained in order to properly retrieve your model.\n"
          ]
        },
        {
          "output_type": "stream",
          "name": "stdout",
          "text": [
            "Run(Experiment: udacity-project-bank-churn,\n",
            "Id: AutoML_58efcc0b-8669-4f80-a5c5-cff132d1afe7_8,\n",
            "Type: azureml.scriptrun,\n",
            "Status: Completed)\n",
            "Pipeline(memory=None,\n",
            "         steps=[('datatransformer',\n",
            "                 DataTransformer(enable_dnn=None, enable_feature_sweeping=None,\n",
            "                                 feature_sweeping_config=None,\n",
            "                                 feature_sweeping_timeout=None,\n",
            "                                 featurization_config=None, force_text_dnn=None,\n",
            "                                 is_cross_validation=None,\n",
            "                                 is_onnx_compatible=None, logger=None,\n",
            "                                 observer=None, task=None, working_dir=None)),\n",
            "                ('prefittedsoftvotingclassifier',...\n",
            "                                                                                                    max_leaf_nodes=None,\n",
            "                                                                                                    max_samples=None,\n",
            "                                                                                                    min_impurity_decrease=0.0,\n",
            "                                                                                                    min_impurity_split=None,\n",
            "                                                                                                    min_samples_leaf=0.01,\n",
            "                                                                                                    min_samples_split=0.2442105263157895,\n",
            "                                                                                                    min_weight_fraction_leaf=0.0,\n",
            "                                                                                                    n_estimators=10,\n",
            "                                                                                                    n_jobs=1,\n",
            "                                                                                                    oob_score=False,\n",
            "                                                                                                    random_state=None,\n",
            "                                                                                                    verbose=0,\n",
            "                                                                                                    warm_start=False))],\n",
            "                                                                     verbose=False))],\n",
            "                                               flatten_transform=None,\n",
            "                                               weights=[0.2, 0.3, 0.2, 0.1, 0.1,\n",
            "                                                        0.1]))],\n",
            "         verbose=False)\n"
          ]
        },
        {
          "output_type": "error",
          "ename": "TypeError",
          "evalue": "predict() missing 1 required positional argument: 'X'",
          "traceback": [
            "\u001b[0;31m---------------------------------------------------------------------------\u001b[0m",
            "\u001b[0;31mTypeError\u001b[0m                                 Traceback (most recent call last)",
            "\u001b[0;32m<ipython-input-58-167e95c45acd>\u001b[0m in \u001b[0;36m<module>\u001b[0;34m\u001b[0m\n\u001b[1;32m      2\u001b[0m \u001b[0mprint\u001b[0m\u001b[0;34m(\u001b[0m\u001b[0mbest_automl_run\u001b[0m\u001b[0;34m)\u001b[0m\u001b[0;34m\u001b[0m\u001b[0;34m\u001b[0m\u001b[0m\n\u001b[1;32m      3\u001b[0m \u001b[0mprint\u001b[0m\u001b[0;34m(\u001b[0m\u001b[0mfitted_model\u001b[0m\u001b[0;34m)\u001b[0m\u001b[0;34m\u001b[0m\u001b[0;34m\u001b[0m\u001b[0m\n\u001b[0;32m----> 4\u001b[0;31m \u001b[0mfitted_model\u001b[0m\u001b[0;34m.\u001b[0m\u001b[0mpredict\u001b[0m\u001b[0;34m(\u001b[0m\u001b[0;34m)\u001b[0m\u001b[0;34m\u001b[0m\u001b[0;34m\u001b[0m\u001b[0m\n\u001b[0m",
            "\u001b[0;32m/anaconda/envs/azureml_py36/lib/python3.6/site-packages/sklearn/utils/metaestimators.py\u001b[0m in \u001b[0;36m<lambda>\u001b[0;34m(*args, **kwargs)\u001b[0m\n\u001b[1;32m    114\u001b[0m \u001b[0;34m\u001b[0m\u001b[0m\n\u001b[1;32m    115\u001b[0m         \u001b[0;31m# lambda, but not partial, allows help() to work with update_wrapper\u001b[0m\u001b[0;34m\u001b[0m\u001b[0;34m\u001b[0m\u001b[0;34m\u001b[0m\u001b[0m\n\u001b[0;32m--> 116\u001b[0;31m         \u001b[0mout\u001b[0m \u001b[0;34m=\u001b[0m \u001b[0;32mlambda\u001b[0m \u001b[0;34m*\u001b[0m\u001b[0margs\u001b[0m\u001b[0;34m,\u001b[0m \u001b[0;34m**\u001b[0m\u001b[0mkwargs\u001b[0m\u001b[0;34m:\u001b[0m \u001b[0mself\u001b[0m\u001b[0;34m.\u001b[0m\u001b[0mfn\u001b[0m\u001b[0;34m(\u001b[0m\u001b[0mobj\u001b[0m\u001b[0;34m,\u001b[0m \u001b[0;34m*\u001b[0m\u001b[0margs\u001b[0m\u001b[0;34m,\u001b[0m \u001b[0;34m**\u001b[0m\u001b[0mkwargs\u001b[0m\u001b[0;34m)\u001b[0m\u001b[0;34m\u001b[0m\u001b[0;34m\u001b[0m\u001b[0m\n\u001b[0m\u001b[1;32m    117\u001b[0m         \u001b[0;31m# update the docstring of the returned function\u001b[0m\u001b[0;34m\u001b[0m\u001b[0;34m\u001b[0m\u001b[0;34m\u001b[0m\u001b[0m\n\u001b[1;32m    118\u001b[0m         \u001b[0mupdate_wrapper\u001b[0m\u001b[0;34m(\u001b[0m\u001b[0mout\u001b[0m\u001b[0;34m,\u001b[0m \u001b[0mself\u001b[0m\u001b[0;34m.\u001b[0m\u001b[0mfn\u001b[0m\u001b[0;34m)\u001b[0m\u001b[0;34m\u001b[0m\u001b[0;34m\u001b[0m\u001b[0m\n",
            "\u001b[0;31mTypeError\u001b[0m: predict() missing 1 required positional argument: 'X'"
          ]
        }
      ],
      "execution_count": 58,
      "metadata": {
        "gather": {
          "logged": 1613821137812
        },
        "jupyter": {
          "outputs_hidden": false,
          "source_hidden": false
        },
        "nteract": {
          "transient": {
            "deleting": false
          }
        }
      }
    },
    {
      "cell_type": "code",
      "source": [
        "#TODO: Save the best model\n",
        "\n",
        "# import os\n",
        "\n",
        "# if not os.path.exists(\"outputs\"):\n",
        "#     os.makedirs(\"outputs\")\n",
        "import joblib\n",
        "joblib.dump(value=fitted_model, filename='automl_test_experiment_best_model2.pkl')"
      ],
      "outputs": [
        {
          "output_type": "stream",
          "name": "stdout",
          "text": [
            "Registering model Regression_model_new\n"
          ]
        }
      ],
      "execution_count": 60,
      "metadata": {
        "gather": {
          "logged": 1613821411873
        },
        "jupyter": {
          "outputs_hidden": false,
          "source_hidden": false
        },
        "nteract": {
          "transient": {
            "deleting": false
          }
        }
      }
    },
    {
      "cell_type": "code",
      "source": [
        "from azureml.core.model import Model\r\n",
        "model = Model.register(model_path=\"automl_test_experiment_best_model2.pkl\",\r\n",
        "                        model_name=\"Regression_model_new\",\r\n",
        "                        tags={'area': \"churn\", 'type': \"regression\"},\r\n",
        "                        description=\"Model to predict churn\",\r\n",
        "                        workspace=ws)"
      ],
      "outputs": [
        {
          "output_type": "stream",
          "name": "stdout",
          "text": [
            "Registering model Regression_model_new\n"
          ]
        }
      ],
      "execution_count": 5,
      "metadata": {
        "collapsed": true,
        "jupyter": {
          "source_hidden": false,
          "outputs_hidden": false
        },
        "nteract": {
          "transient": {
            "deleting": false
          }
        },
        "gather": {
          "logged": 1613899808369
        }
      }
    },
    {
      "cell_type": "markdown",
      "source": [
        "## Model Deployment\n",
        "\n",
        "Remember you have to deploy only one of the two models you trained.. Perform the steps in the rest of this notebook only if you wish to deploy this model.\n",
        "\n",
        "TODO: In the cell below, register the model, create an inference config and deploy the model as a web service."
      ],
      "metadata": {}
    },
    {
      "cell_type": "code",
      "source": [
        "from azureml.core.webservice import AciWebservice, Webservice\n",
        "from azureml.core.model import Model, InferenceConfig\n",
        "from azureml.core import Environment\n",
        "from azureml.core.conda_dependencies import CondaDependencies\n",
        "\n",
        "env = Environment.from_conda_specification(name='automlv2',file_path='conda_env_v_1_0_0.yml')\n",
        "inference_config = InferenceConfig(entry_script='score.py', environment=env)\n",
        "deployment_config = AciWebservice.deploy_configuration(cpu_cores = 2, memory_gb = 4, auth_enabled = True, enable_app_insights = True)"
      ],
      "outputs": [],
      "execution_count": null,
      "metadata": {
        "gather": {
          "logged": 1598431435189
        },
        "jupyter": {
          "outputs_hidden": false,
          "source_hidden": false
        },
        "nteract": {
          "transient": {
            "deleting": false
          }
        }
      }
    },
    {
      "cell_type": "code",
      "source": [
        "service_name = 'bankchurnpredictionautoml8'\r\n",
        "service = Model.deploy(ws, service_name, [model], inference_config, deployment_config)\r\n",
        "print(service.state)\r\n",
        "\r\n",
        "service.wait_for_deployment(show_output = True)\r\n",
        "print(service.scoring_uri)"
      ],
      "outputs": [
        {
          "output_type": "stream",
          "name": "stdout",
          "text": [
            "Transitioning\n",
            "Tips: You can try get_logs(): https://aka.ms/debugimage#dockerlog or local deployment: https://aka.ms/debugimage#debug-locally to debug if deployment takes longer than 10 minutes.\n",
            "Running.............................................\n",
            "Succeeded\n",
            "ACI service creation operation finished, operation \"Succeeded\"\n",
            "http://57ea7fd1-a3c6-4513-b540-ea076b3a1780.southcentralus.azurecontainer.io/score\n"
          ]
        }
      ],
      "execution_count": 21,
      "metadata": {
        "collapsed": true,
        "jupyter": {
          "source_hidden": false,
          "outputs_hidden": false
        },
        "nteract": {
          "transient": {
            "deleting": false
          }
        },
        "gather": {
          "logged": 1613903736532
        }
      }
    },
    {
      "cell_type": "code",
      "source": [
        "service.get_logs()"
      ],
      "outputs": [
        {
          "output_type": "execute_result",
          "execution_count": 22,
          "data": {
            "text/plain": "'2021-02-21T10:35:22,228292096+00:00 - rsyslog/run \\n2021-02-21T10:35:22,228476804+00:00 - nginx/run \\n2021-02-21T10:35:22,227457662+00:00 - gunicorn/run \\n2021-02-21T10:35:22,228947224+00:00 - iot-server/run \\n/usr/sbin/nginx: /azureml-envs/azureml_7785023fceb74e4facc1b1a577b1faf9/lib/libcrypto.so.1.0.0: no version information available (required by /usr/sbin/nginx)\\n/usr/sbin/nginx: /azureml-envs/azureml_7785023fceb74e4facc1b1a577b1faf9/lib/libcrypto.so.1.0.0: no version information available (required by /usr/sbin/nginx)\\n/usr/sbin/nginx: /azureml-envs/azureml_7785023fceb74e4facc1b1a577b1faf9/lib/libssl.so.1.0.0: no version information available (required by /usr/sbin/nginx)\\n/usr/sbin/nginx: /azureml-envs/azureml_7785023fceb74e4facc1b1a577b1faf9/lib/libssl.so.1.0.0: no version information available (required by /usr/sbin/nginx)\\n/usr/sbin/nginx: /azureml-envs/azureml_7785023fceb74e4facc1b1a577b1faf9/lib/libssl.so.1.0.0: no version information available (required by /usr/sbin/nginx)\\nrsyslogd: /azureml-envs/azureml_7785023fceb74e4facc1b1a577b1faf9/lib/libuuid.so.1: no version information available (required by rsyslogd)\\nEdgeHubConnectionString and IOTEDGE_IOTHUBHOSTNAME are not set. Exiting...\\n2021-02-21T10:35:22,314128469+00:00 - iot-server/finish 1 0\\n2021-02-21T10:35:22,316237056+00:00 - Exit code 1 is normal. Not restarting iot-server.\\nStarting gunicorn 19.9.0\\nListening at: http://127.0.0.1:31311 (14)\\nUsing worker: sync\\nworker timeout is set to 300\\nBooting worker with pid: 42\\nSPARK_HOME not set. Skipping PySpark Initialization.\\nGenerating new fontManager, this may take some time...\\nInitializing logger\\n2021-02-21 10:35:25,278 | root | INFO | Starting up app insights client\\n2021-02-21 10:35:25,278 | root | INFO | Starting up request id generator\\n2021-02-21 10:35:25,278 | root | INFO | Starting up app insight hooks\\n2021-02-21 10:35:25,279 | root | INFO | Invoking user\\'s init function\\nazureml-models/Regression_model_new/1/automl_test_experiment_best_model2.pkl\\n2021-02-21 10:35:26,335 | root | INFO | Users\\'s init has completed successfully\\n2021-02-21 10:35:26,341 | root | INFO | Skipping middleware: dbg_model_info as it\\'s not enabled.\\n2021-02-21 10:35:26,341 | root | INFO | Skipping middleware: dbg_resource_usage as it\\'s not enabled.\\n2021-02-21 10:35:26,343 | root | INFO | Scoring timeout is found from os.environ: 60000 ms\\n2021-02-21 10:35:30,979 | root | INFO | 200\\n127.0.0.1 - - [21/Feb/2021:10:35:30 +0000] \"GET /swagger.json HTTP/1.0\" 200 2884 \"-\" \"Go-http-client/1.1\"\\n2021-02-21 10:35:36,341 | root | INFO | 200\\n127.0.0.1 - - [21/Feb/2021:10:35:36 +0000] \"GET /swagger.json HTTP/1.0\" 200 2884 \"-\" \"Go-http-client/1.1\"\\n'"
          },
          "metadata": {}
        }
      ],
      "execution_count": 22,
      "metadata": {
        "collapsed": true,
        "jupyter": {
          "source_hidden": false,
          "outputs_hidden": false
        },
        "nteract": {
          "transient": {
            "deleting": false
          }
        },
        "gather": {
          "logged": 1613903743797
        }
      }
    },
    {
      "cell_type": "markdown",
      "source": [
        "TODO: In the cell below, send a request to the web service you deployed to test it."
      ],
      "metadata": {
        "collapsed": true,
        "gather": {
          "logged": 1598431657736
        },
        "jupyter": {
          "outputs_hidden": false,
          "source_hidden": false
        },
        "nteract": {
          "transient": {
            "deleting": false
          }
        }
      }
    },
    {
      "cell_type": "code",
      "source": [
        "import json\n",
        "\n",
        "#CreditScore\tGender\tAge\tTenure\tBalance\tNumOfProducts\tHasCrCard\tIsActiveMember\tEstimatedSalary\t[Exited]\tGeography_France\tGeography_Germany\tGeography_Spain\n",
        "\n",
        "#502\t1\t42\t8\t159660.8\t3\t1\t0\t113931.57\t[1] 1\t0\t0\n",
        "#543\t0\t22\t8\t0\t        2\t0\t0\t127587.22\t[0]\t1\t0\t0\n",
        "\n",
        "data = {\"data\":\n",
        "        [\n",
        "          {\n",
        "            \"CreditScore\": \t502,\n",
        "            \"Gender\": 1,\t\n",
        "            \"Age\": 42,\t\n",
        "            \"Tenure\": 8,\t\n",
        "            \"Balance\": 159660.8,\t\n",
        "            \"NumOfProducts\":\t3,\n",
        "            \"HasCrCard\":\t1,\n",
        "            \"IsActiveMember\": 0,\t\n",
        "            \"EstimatedSalary\": 113931.57,\t\n",
        "            \"Geography_France\": 1,\t\n",
        "            \"Geography_Germany\": 0,\t\n",
        "            \"Geography_Spain\": 0\n",
        "          },\n",
        "          {\n",
        "            \"CreditScore\": \t543,\n",
        "            \"Gender\": 0,\t\n",
        "            \"Age\": 22,\t\n",
        "            \"Tenure\": 8,\t\n",
        "            \"Balance\": 0,\t\n",
        "            \"NumOfProducts\":\t2,\n",
        "            \"HasCrCard\":\t0,\n",
        "            \"IsActiveMember\": 0,\t\n",
        "            \"EstimatedSalary\": 127587.22,\t\n",
        "            \"Geography_France\": 1,\t\n",
        "            \"Geography_Germany\": 0,\t\n",
        "            \"Geography_Spain\": 0\n",
        "          }\n",
        "      ]\n",
        "    }\n",
        "\n",
        "inputJson = json.dumps(data)\n",
        "serviceOutput = service.run(inputJson)\n",
        "\n",
        "print(serviceOutput)"
      ],
      "outputs": [
        {
          "output_type": "stream",
          "name": "stdout",
          "text": [
            "{\"result\": [1, 0]}\n"
          ]
        }
      ],
      "execution_count": 23,
      "metadata": {
        "gather": {
          "logged": 1613903751863
        },
        "jupyter": {
          "outputs_hidden": false,
          "source_hidden": false
        },
        "nteract": {
          "transient": {
            "deleting": false
          }
        }
      }
    },
    {
      "cell_type": "markdown",
      "source": [
        "TODO: In the cell below, print the logs of the web service and delete the service"
      ],
      "metadata": {
        "collapsed": true,
        "gather": {
          "logged": 1598432765711
        },
        "jupyter": {
          "outputs_hidden": false,
          "source_hidden": false
        },
        "nteract": {
          "transient": {
            "deleting": false
          }
        }
      }
    },
    {
      "cell_type": "code",
      "source": [
        "service.delete()"
      ],
      "outputs": [],
      "execution_count": null,
      "metadata": {
        "jupyter": {
          "outputs_hidden": false,
          "source_hidden": false
        },
        "nteract": {
          "transient": {
            "deleting": false
          }
        }
      }
    },
    {
      "cell_type": "code",
      "source": [],
      "outputs": [],
      "execution_count": null,
      "metadata": {
        "collapsed": true,
        "jupyter": {
          "source_hidden": false,
          "outputs_hidden": false
        },
        "nteract": {
          "transient": {
            "deleting": false
          }
        }
      }
    }
  ],
  "metadata": {
    "kernel_info": {
      "name": "python3"
    },
    "kernelspec": {
      "name": "python3",
      "language": "python",
      "display_name": "Python 3"
    },
    "language_info": {
      "name": "python",
      "version": "3.6.9",
      "mimetype": "text/x-python",
      "codemirror_mode": {
        "name": "ipython",
        "version": 3
      },
      "pygments_lexer": "ipython3",
      "nbconvert_exporter": "python",
      "file_extension": ".py"
    },
    "nteract": {
      "version": "nteract-front-end@1.0.0"
    }
  },
  "nbformat": 4,
  "nbformat_minor": 2
}